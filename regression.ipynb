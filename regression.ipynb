{
 "cells": [
  {
   "cell_type": "markdown",
   "id": "83e2aa31",
   "metadata": {},
   "source": [
    "<font color='blue'><b>Developing the Base Model</b></font></br>\n",
    "All the variables were considered in the base model:</br> \n",
    "(1) All the categorical data were dummified.</br>\n",
    "(2) Insignificant variables (p < 0.05) were dropped.</br>\n",
    "(3) Numeric / scale variables with correlation more than 30% were removed."
   ]
  },
  {
   "cell_type": "code",
   "execution_count": 595,
   "id": "89395660",
   "metadata": {},
   "outputs": [],
   "source": [
    "#import libraries\n",
    "import pandas as pd\n",
    "import numpy as np\n",
    "import matplotlib.pyplot as plt\n",
    "import seaborn as sns\n",
    "from sklearn.linear_model import LinearRegression\n",
    "from sklearn import linear_model\n",
    "from sklearn import metrics\n",
    "from scipy import stats\n",
    "import statsmodels.api as sm\n",
    "from sklearn.preprocessing import StandardScaler\n",
    "from sklearn.compose import ColumnTransformer"
   ]
  },
  {
   "cell_type": "code",
   "execution_count": 596,
   "id": "f2652217",
   "metadata": {},
   "outputs": [],
   "source": [
    "#import processed (clean) data\n",
    "train = pd.read_csv('./datasets/train_clean.csv')\n",
    "test = pd.read_csv('./datasets/test_clean.csv')"
   ]
  },
  {
   "cell_type": "code",
   "execution_count": 597,
   "id": "da81e15b",
   "metadata": {},
   "outputs": [],
   "source": [
    "#drop outliers\n",
    "outlierindex = train[(train['Id'] == 910)].index\n",
    "train.drop(outlierindex , inplace=True)\n",
    "outlierindex = train[(train['Id'] == 1183)].index\n",
    "train.drop(outlierindex , inplace=True)\n",
    "outlierindex = train[(train['Id'] == 1499)].index\n",
    "train.drop(outlierindex , inplace=True)\n",
    "outlierindex = train[(train['Id'] == 1783)].index\n",
    "train.drop(outlierindex , inplace=True)"
   ]
  },
  {
   "cell_type": "code",
   "execution_count": 598,
   "id": "77756a20",
   "metadata": {},
   "outputs": [],
   "source": [
    "#Computer Age When Sold from Year Built and Yr Sold\n",
    "train[\"Age When Sold\"] = train[\"Yr Sold\"] - train[\"Year Built\"]\n",
    "test[\"Age When Sold\"] = test[\"Yr Sold\"] - test[\"Year Built\"]\n",
    "\n",
    "#Computer Age When Sold from Year Built and Yr Sold\n",
    "train[\"Remod When Sold\"] = train[\"Yr Sold\"] - train[\"Year Remod/Add\"]\n",
    "test[\"Remod When Sold\"] = test[\"Yr Sold\"] - test[\"Year Remod/Add\"]"
   ]
  },
  {
   "cell_type": "code",
   "execution_count": 599,
   "id": "87d82931",
   "metadata": {},
   "outputs": [],
   "source": [
    "#Selected variables for the training model\n",
    "X_train = train[[\"MS SubClass\",\"MS Zoning\",\"Street\",\"Alley\",\"Lot Shape\",\n",
    "                 \"Land Contour\",\"Lot Config\",\"Land Slope\",\"Neighborhood\",\n",
    "                 \"Condition 1\",\"Condition 2\",\"Bldg Type\",\"House Style\",\"Overall Qual\",\n",
    "                 \"Overall Cond\",\"Age When Sold\",\"Remod When Sold\",\"Roof Style\",\"Roof Matl\",\n",
    "                 \"Exterior 1st\",\"Exterior 2nd\",\"Mas Vnr Type\",\"Mas Vnr Area\",\n",
    "                 \"Exter Qual\",\"Foundation\",\"Bsmt Qual\",\"Bsmt Cond\",\n",
    "                 \"BsmtFin Type 1\",\"BsmtFin SF 1\",\"BsmtFin Type 2\",\n",
    "                 \"Bsmt Unf SF\",\"Total Bsmt SF\",\"Heating\",\"Heating QC\",\n",
    "                 \"Central Air\",\"Electrical\",\"1st Flr SF\",\"Low Qual Fin SF\",\n",
    "                 \"Gr Liv Area\",\"Full Bath\",\"Half Bath\",\"Kitchen AbvGr\",\n",
    "                 \"Kitchen Qual\",\"TotRms AbvGrd\",\"Functional\",\n",
    "                 \"Fireplace Qu\",\"Garage Type\",\"Garage Finish\",\"Garage Cars\",\n",
    "                 \"Garage Area\",\"Garage Qual\",\"Garage Cond\",\"Paved Drive\",\n",
    "                 \"Open Porch SF\",\"Enclosed Porch\",\"Fence\",\"Misc Feature\", \n",
    "                 \"Sale Type\"]]\n",
    "\n",
    "y_train = train['SalePrice']\n",
    "\n",
    "#Applied similar processing to the test data\n",
    "X_test = test[[\"MS SubClass\",\"MS Zoning\",\"Street\",\"Alley\",\"Lot Shape\",\n",
    "               \"Land Contour\",\"Lot Config\",\"Land Slope\",\"Neighborhood\",\n",
    "               \"Condition 1\",\"Condition 2\",\"Bldg Type\",\"House Style\",\"Overall Qual\",\n",
    "               \"Overall Cond\",\"Age When Sold\",\"Remod When Sold\",\"Roof Style\",\"Roof Matl\",\n",
    "               \"Exterior 1st\",\"Exterior 2nd\",\"Mas Vnr Type\",\"Mas Vnr Area\",\n",
    "               \"Exter Qual\",\"Foundation\",\"Bsmt Qual\",\"Bsmt Cond\",\n",
    "               \"BsmtFin Type 1\",\"BsmtFin SF 1\",\"BsmtFin Type 2\",\n",
    "               \"Bsmt Unf SF\",\"Total Bsmt SF\",\"Heating\",\"Heating QC\",\n",
    "               \"Central Air\",\"Electrical\",\"1st Flr SF\",\"Low Qual Fin SF\",\n",
    "               \"Gr Liv Area\",\"Full Bath\",\"Half Bath\",\"Kitchen AbvGr\",\n",
    "               \"Kitchen Qual\",\"TotRms AbvGrd\",\"Functional\",\n",
    "               \"Fireplace Qu\",\"Garage Type\",\"Garage Finish\",\"Garage Cars\",\n",
    "               \"Garage Area\",\"Garage Qual\",\"Garage Cond\",\"Paved Drive\",\n",
    "               \"Open Porch SF\",\"Enclosed Porch\",\"Fence\",\"Misc Feature\", \n",
    "               \"Sale Type\"]]\n",
    "\n",
    "#Create Dummy Variables for MS SubClass (Base for Comparison = 20)\n",
    "X_train = pd.get_dummies(columns=['MS SubClass'], data=X_train)\n",
    "X_train = X_train.drop(columns=['MS SubClass_20'])\n",
    "X_test = pd.get_dummies(columns=['MS SubClass'], data=X_test)\n",
    "X_test['MS SubClass_150'] = 0\n",
    "X_test = X_test.drop(columns=['MS SubClass_20'])\n",
    "\n",
    "#Create Dummy Variables for MS Zoning (Base for Comparison = A (agr))\n",
    "X_train = pd.get_dummies(columns=['MS Zoning'], data=X_train)\n",
    "X_train = X_train.drop(columns=['MS Zoning_A (agr)'])\n",
    "X_test = pd.get_dummies(columns=['MS Zoning'], data=X_test)\n",
    "\n",
    "#Create Dummy Variables for Street (Base for Comparison = Grvl)\n",
    "X_train = pd.get_dummies(columns=['Street'], data=X_train)\n",
    "X_train = X_train.drop(columns=['Street_Grvl'])\n",
    "X_test = pd.get_dummies(columns=['Street'], data=X_test)\n",
    "X_test = X_test.drop(columns=['Street_Grvl'])\n",
    "\n",
    "#Create Dummy Variables for Alley (Base for Comparison = No Alley)\n",
    "X_train = pd.get_dummies(columns=['Alley'], data=X_train)\n",
    "X_train = X_train.drop(columns=['Alley_No Alley'])\n",
    "X_test = pd.get_dummies(columns=['Alley'], data=X_test)\n",
    "X_test = X_test.drop(columns=['Alley_No Alley'])\n",
    "\n",
    "#Create Dummy Variables for Lot Shape (Base for Comparison = Reg)\n",
    "X_train = pd.get_dummies(columns=['Lot Shape'], data=X_train)\n",
    "X_train = X_train.drop(columns=['Lot Shape_Reg'])\n",
    "X_test = pd.get_dummies(columns=['Lot Shape'], data=X_test)\n",
    "X_test = X_test.drop(columns=['Lot Shape_Reg'])\n",
    "\n",
    "#Create Dummy Variables for Land Contour (Base for Comparison = Lvl)\n",
    "X_train = pd.get_dummies(columns=['Land Contour'], data=X_train)\n",
    "X_train = X_train.drop(columns=['Land Contour_Lvl'])\n",
    "X_test = pd.get_dummies(columns=['Land Contour'], data=X_test)\n",
    "X_test = X_test.drop(columns=['Land Contour_Lvl'])\n",
    "\n",
    "#Create Dummy Variables for Lot Config (Base for Comparison = AllPub)\n",
    "X_train = pd.get_dummies(columns=['Lot Config'], data=X_train)\n",
    "X_train = X_train.drop(columns=['Lot Config_Inside'])\n",
    "X_test = pd.get_dummies(columns=['Lot Config'], data=X_test)\n",
    "X_test = X_test.drop(columns=['Lot Config_Inside'])\n",
    "\n",
    "#Create Dummy Variables for Land Slope (Base for Comparison = Gtl)\n",
    "X_train = pd.get_dummies(columns=['Land Slope'], data=X_train)\n",
    "X_train = X_train.drop(columns=['Land Slope_Gtl'])\n",
    "X_test = pd.get_dummies(columns=['Land Slope'], data=X_test)\n",
    "X_test = X_test.drop(columns=['Land Slope_Gtl'])\n",
    "\n",
    "#Create Dummy Variables for Neighborhood (Base for Comparison = NAmes)\n",
    "X_train = pd.get_dummies(columns=['Neighborhood'], data=X_train)\n",
    "X_train = X_train.drop(columns=['Neighborhood_NAmes'])\n",
    "X_test = pd.get_dummies(columns=['Neighborhood'], data=X_test)\n",
    "X_test = X_test.drop(columns=['Neighborhood_NAmes'])\n",
    "X_test['Neighborhood_GrnHill'] = 0\n",
    "X_test['Neighborhood_Landmrk'] = 0\n",
    "\n",
    "#Create Dummy Variables for Condition 1 (Base for Comparison = Norm)\n",
    "X_train = pd.get_dummies(columns=['Condition 1'], data=X_train)\n",
    "X_train = X_train.drop(columns=['Condition 1_Norm'])\n",
    "X_test = pd.get_dummies(columns=['Condition 1'], data=X_test)\n",
    "X_test = X_test.drop(columns=['Condition 1_Norm'])\n",
    "\n",
    "#Create Dummy Variables for Condition 2 (Base for Comparison = Norm)\n",
    "X_train = pd.get_dummies(columns=['Condition 2'], data=X_train)\n",
    "X_train = X_train.drop(columns=['Condition 2_Norm'])\n",
    "X_test = pd.get_dummies(columns=['Condition 2'], data=X_test)\n",
    "X_test = X_test.drop(columns=['Condition 2_Norm'])\n",
    "#Test dataset does not have Artery, PosN, RRAe, RRAn and RRNn, created blank column\n",
    "X_test['Condition 2_Artery'] = 0\n",
    "X_test['Condition 2_PosN'] = 0\n",
    "X_test['Condition 2_RRAe'] = 0\n",
    "X_test['Condition 2_RRAn'] = 0\n",
    "X_test['Condition 2_RRNn'] = 0\n",
    "\n",
    "#Create Dummy Variables for Bldg Type (Base for Comparison = 1Fam)\n",
    "X_train = pd.get_dummies(columns=['Bldg Type'], data=X_train)\n",
    "X_train = X_train.drop(columns=['Bldg Type_1Fam'])\n",
    "X_test = pd.get_dummies(columns=['Bldg Type'], data=X_test)\n",
    "X_test = X_test.drop(columns=['Bldg Type_1Fam'])\n",
    "\n",
    "#Create Dummy Variables for House Style (Base for Comparison = 1Story)\n",
    "X_train = pd.get_dummies(columns=['House Style'], data=X_train)\n",
    "X_train = X_train.drop(columns=['House Style_1Story'])\n",
    "X_test = pd.get_dummies(columns=['House Style'], data=X_test)\n",
    "X_test = X_test.drop(columns=['House Style_1Story'])\n",
    "\n",
    "#Create Dummy Variables for Roof Style (Base for Comparison = Gable)\n",
    "X_train = pd.get_dummies(columns=['Roof Style'], data=X_train)\n",
    "X_train = X_train.drop(columns=['Roof Style_Gable'])\n",
    "X_test = pd.get_dummies(columns=['Roof Style'], data=X_test)\n",
    "X_test = X_test.drop(columns=['Roof Style_Gable'])\n",
    "\n",
    "#Create Dummy Variables for Roof Matl (Base for Comparison = CompShg)\n",
    "X_train = pd.get_dummies(columns=['Roof Matl'], data=X_train)\n",
    "X_train = X_train.drop(columns=['Roof Matl_Membran'])\n",
    "X_train = X_train.drop(columns=['Roof Matl_CompShg'])\n",
    "X_test = pd.get_dummies(columns=['Roof Matl'], data=X_test)\n",
    "X_test = X_test.drop(columns=['Roof Matl_CompShg'])\n",
    "X_test = X_test.drop(columns=['Roof Matl_Metal'])\n",
    "X_test = X_test.drop(columns=['Roof Matl_Roll'])\n",
    "\n",
    "#Create Dummy Variables for Exterior 1st (Base for Comparison = VinylSd)\n",
    "X_train = pd.get_dummies(columns=['Exterior 1st'], data=X_train)\n",
    "X_train = X_train.drop(columns=['Exterior 1st_VinylSd'])\n",
    "X_train[\"Exterior 1st_PreCast\"] = 0\n",
    "X_test = pd.get_dummies(columns=['Exterior 1st'], data=X_test)\n",
    "X_test = X_test.drop(columns=['Exterior 1st_VinylSd'])\n",
    "X_test[\"Exterior 1st_CBlock\"] = 0\n",
    "X_test[\"Exterior 1st_ImStucc\"] = 0\n",
    "X_test[\"Exterior 1st_Stone\"] = 0\n",
    "\n",
    "#Create Dummy Variables for Exterior 2nd (Base for Comparison = VinylSd)\n",
    "X_train = pd.get_dummies(columns=['Exterior 2nd'], data=X_train)\n",
    "X_train = X_train.drop(columns=['Exterior 2nd_VinylSd'])\n",
    "X_train[\"Exterior 2nd_Other\"] = 0\n",
    "X_train[\"Exterior 2nd_PreCast\"] = 0\n",
    "X_test = pd.get_dummies(columns=['Exterior 2nd'], data=X_test)\n",
    "X_test = X_test.drop(columns=['Exterior 2nd_VinylSd'])\n",
    "X_test[\"Exterior 2nd_Stone\"] = 0\n",
    "\n",
    "#Create Dummy Variables for Mas Vnr Type (Base for Comparison = None)\n",
    "X_train = pd.get_dummies(columns=['Mas Vnr Type'], data=X_train)\n",
    "X_train = X_train.drop(columns=['Mas Vnr Type_None'])\n",
    "X_train[\"Mas Vnr Type_CBlock\"] = 0\n",
    "X_test = pd.get_dummies(columns=['Mas Vnr Type'], data=X_test)\n",
    "X_test = X_test.drop(columns=['Mas Vnr Type_None'])\n",
    "\n",
    "#Create Dummy Variables for Foundation (Base for Comparison = PConc)\n",
    "X_train = pd.get_dummies(columns=['Foundation'], data=X_train)\n",
    "X_train = X_train.drop(columns=['Foundation_PConc'])\n",
    "X_test = pd.get_dummies(columns=['Foundation'], data=X_test)\n",
    "X_test = X_test.drop(columns=['Foundation_PConc'])\n",
    "\n",
    "#Create Dummy Variables for BsmtFin Type 1 (Base for Comparison = GLQ)\n",
    "X_train = pd.get_dummies(columns=['BsmtFin Type 1'], data=X_train)\n",
    "X_train = X_train.drop(columns=['BsmtFin Type 1_GLQ'])\n",
    "X_test = pd.get_dummies(columns=['BsmtFin Type 1'], data=X_test)\n",
    "X_test = X_test.drop(columns=['BsmtFin Type 1_GLQ'])\n",
    "\n",
    "#Create Dummy Variables for BsmtFin Type 2 (Base for Comparison = Unf)\n",
    "X_train = pd.get_dummies(columns=['BsmtFin Type 2'], data=X_train)\n",
    "X_train = X_train.drop(columns=['BsmtFin Type 2_Unf'])\n",
    "X_test = pd.get_dummies(columns=['BsmtFin Type 2'], data=X_test)\n",
    "X_test = X_test.drop(columns=['BsmtFin Type 2_Unf'])\n",
    "\n",
    "#Create Dummy Variables for Heating (Base for Comparison = GasA)\n",
    "X_train = pd.get_dummies(columns=['Heating'], data=X_train)\n",
    "X_train = X_train.drop(columns=['Heating_GasA'])\n",
    "X_train[\"Heating_Floor\"] = 0\n",
    "X_test = pd.get_dummies(columns=['Heating'], data=X_test)\n",
    "X_test = X_test.drop(columns=['Heating_GasA'])\n",
    "X_test[\"Heating_OthW\"] = 0\n",
    "X_test[\"Heating_Wall\"] = 0\n",
    "\n",
    "#Create Dummy Variables for Central Air (Base for Comparison = Y)\n",
    "X_train = pd.get_dummies(columns=['Central Air'], data=X_train)\n",
    "X_train = X_train.drop(columns=['Central Air_Y'])\n",
    "X_test = pd.get_dummies(columns=['Central Air'], data=X_test)\n",
    "X_test = X_test.drop(columns=['Central Air_Y'])\n",
    "\n",
    "#Create Dummy Variables for Electrical (Base for Comparison = SBrkr)\n",
    "X_train = pd.get_dummies(columns=['Electrical'], data=X_train)\n",
    "X_train = X_train.drop(columns=['Electrical_SBrkr'])\n",
    "X_test = pd.get_dummies(columns=['Electrical'], data=X_test)\n",
    "X_test = X_test.drop(columns=['Electrical_SBrkr'])\n",
    "X_test[\"Electrical_Mix\"] = 0\n",
    "\n",
    "#Create Dummy Variables for Functional (Base for Comparison = Typ)\n",
    "X_train = pd.get_dummies(columns=['Functional'], data=X_train)\n",
    "X_train = X_train.drop(columns=['Functional_Typ'])\n",
    "X_test = pd.get_dummies(columns=['Functional'], data=X_test)\n",
    "X_test = X_test.drop(columns=['Functional_Typ'])\n",
    "X_test[\"Functional_Sal\"] = 0\n",
    "X_test[\"Functional_Sev\"] = 0\n",
    "\n",
    "#Create Dummy Variables for Garage Type (Base for Comparison = Attchd)\n",
    "X_train = pd.get_dummies(columns=['Garage Type'], data=X_train)\n",
    "X_train = X_train.drop(columns=['Garage Type_Attchd'])\n",
    "X_test = pd.get_dummies(columns=['Garage Type'], data=X_test)\n",
    "X_test = X_test.drop(columns=['Garage Type_Attchd'])\n",
    "\n",
    "#Create Dummy Variables for Garage Type (Base for Comparison = Unf)\n",
    "X_train = pd.get_dummies(columns=['Garage Finish'], data=X_train)\n",
    "X_train = X_train.drop(columns=['Garage Finish_Unf'])\n",
    "X_test = pd.get_dummies(columns=['Garage Finish'], data=X_test)\n",
    "X_test = X_test.drop(columns=['Garage Finish_Unf'])\n",
    "\n",
    "#Create Dummy Variables for Paved Drive (Base for Comparison = Y)\n",
    "X_train = pd.get_dummies(columns=['Paved Drive'], data=X_train)\n",
    "X_train = X_train.drop(columns=['Paved Drive_Y'])\n",
    "X_test = pd.get_dummies(columns=['Paved Drive'], data=X_test)\n",
    "X_test = X_test.drop(columns=['Paved Drive_Y'])\n",
    "\n",
    "#Create Dummy Variables for Fence (Base for Comparison = None)\n",
    "X_train = pd.get_dummies(columns=['Fence'], data=X_train)\n",
    "X_train = X_train.drop(columns=['Fence_None'])\n",
    "X_test = pd.get_dummies(columns=['Fence'], data=X_test)\n",
    "X_test = X_test.drop(columns=['Fence_None'])\n",
    "\n",
    "#Create Dummy Variables for Misc Feature (Base for Comparison = None)\n",
    "X_train = pd.get_dummies(columns=['Misc Feature'], data=X_train)\n",
    "X_train = X_train.drop(columns=['Misc Feature_None'])\n",
    "X_test = pd.get_dummies(columns=['Misc Feature'], data=X_test)\n",
    "X_test['Misc Feature_Elev'] = 0\n",
    "X_test['Misc Feature_TenC'] = 0\n",
    "X_test = X_test.drop(columns=['Misc Feature_None'])\n",
    "\n",
    "#Create Dummy Variables for Sale Type (Base for Comparison = WD)\n",
    "X_train = pd.get_dummies(columns=['Sale Type'], data=X_train)\n",
    "X_train = X_train.drop(columns=['Sale Type_WD'])\n",
    "X_test = pd.get_dummies(columns=['Sale Type'], data=X_test)\n",
    "X_test = X_test.drop(columns=['Sale Type_WD'])\n",
    "X_test = X_test.drop(columns=['Sale Type_VWD'])"
   ]
  },
  {
   "cell_type": "markdown",
   "id": "595ecb5f",
   "metadata": {},
   "source": [
    "<font color='blue'><b>Drop Variables (Iterative Process)</b></font></br>\n",
    "To achieve all variables to have p<0.05"
   ]
  },
  {
   "cell_type": "code",
   "execution_count": 600,
   "id": "8e66a85f",
   "metadata": {},
   "outputs": [],
   "source": [
    "# Remove dropped variables from Train dataset\n",
    "X_train = X_train.drop(columns=['Paved Drive_P'])\n",
    "X_train = X_train.drop(columns=['Condition 2_Artery'])\n",
    "X_train = X_train.drop(columns=['Neighborhood_SawyerW'])\n",
    "X_train = X_train.drop(columns=['Foundation_BrkTil'])\n",
    "X_train = X_train.drop(columns=['Exterior 1st_AsphShn'])\n",
    "X_train = X_train.drop(columns=['Fence_MnPrv'])\n",
    "X_train = X_train.drop(columns=['Neighborhood_Gilbert'])\n",
    "X_train = X_train.drop(columns=['Exterior 2nd_PreCast'])\n",
    "X_train = X_train.drop(columns=['Condition 2_RRAe'])\n",
    "X_train = X_train.drop(columns=['Foundation_CBlock'])\n",
    "X_train = X_train.drop(columns=['Sale Type_ConLI'])\n",
    "X_train = X_train.drop(columns=['Misc Feature_Shed'])\n",
    "X_train = X_train.drop(columns=['Fence_GdWo'])\n",
    "X_train = X_train.drop(columns=['Neighborhood_IDOTRR'])\n",
    "X_train = X_train.drop(columns=['Bsmt Cond'])\n",
    "X_train = X_train.drop(columns=['Exterior 1st_BrkComm'])\n",
    "X_train = X_train.drop(columns=['Garage Cond'])\n",
    "X_train = X_train.drop(columns=['Condition 2_PosN'])\n",
    "X_train = X_train.drop(columns=['Neighborhood_OldTown'])\n",
    "X_train = X_train.drop(columns=['Street_Pave'])\n",
    "X_train = X_train.drop(columns=['MS SubClass_60'])\n",
    "X_train = X_train.drop(columns=['Neighborhood_Landmrk'])\n",
    "X_train = X_train.drop(columns=['Misc Feature_TenC'])\n",
    "X_train = X_train.drop(columns=['Lot Shape_IR1'])\n",
    "X_train = X_train.drop(columns=['Garage Type_CarPort'])\n",
    "X_train = X_train.drop(columns=['BsmtFin SF 1'])\n",
    "X_train = X_train.drop(columns=['Bldg Type_Twnhs'])\n",
    "X_train = X_train.drop(columns=['Foundation_Slab'])\n",
    "X_train = X_train.drop(columns=['House Style_SLvl'])\n",
    "X_train = X_train.drop(columns=['Electrical_FuseA'])\n",
    "X_train = X_train.drop(columns=['Bldg Type_TwnhsE'])\n",
    "X_train = X_train.drop(columns=['Exterior 1st_Stone'])\n",
    "X_train = X_train.drop(columns=['MS SubClass_85'])\n",
    "X_train = X_train.drop(columns=['Exterior 1st_ImStucc'])\n",
    "X_train = X_train.drop(columns=['Garage Type_None'])\n",
    "X_train = X_train.drop(columns=['Roof Style_Flat'])\n",
    "X_train = X_train.drop(columns=['Foundation_Stone'])\n",
    "X_train = X_train.drop(columns=['Sale Type_ConLw'])\n",
    "X_train = X_train.drop(columns=['Electrical_Mix'])\n",
    "X_train = X_train.drop(columns=['Misc Feature_Gar2'])\n",
    "X_train = X_train.drop(columns=['Neighborhood_SWISU'])\n",
    "X_train = X_train.drop(columns=['1st Flr SF'])\n",
    "X_train = X_train.drop(columns=['Heating_GasW'])\n",
    "X_train = X_train.drop(columns=['Fence_MnWw'])\n",
    "X_train = X_train.drop(columns=['Mas Vnr Type_Stone'])\n",
    "X_train = X_train.drop(columns=['Neighborhood_MeadowV'])\n",
    "X_train = X_train.drop(columns=['House Style_SFoyer'])\n",
    "X_train = X_train.drop(columns=['Exterior 2nd_Other'])\n",
    "X_train = X_train.drop(columns=['Neighborhood_Blueste'])\n",
    "X_train = X_train.drop(columns=['Heating_Wall'])\n",
    "X_train = X_train.drop(columns=['Fence_GdPrv'])\n",
    "X_train = X_train.drop(columns=['Condition 2_Feedr'])\n",
    "X_train = X_train.drop(columns=['Exterior 1st_Stucco'])\n",
    "X_train = X_train.drop(columns=['Alley_Grvl'])\n",
    "X_train = X_train.drop(columns=['Land Slope_Sev'])\n",
    "X_train = X_train.drop(columns=['Foundation_Wood'])\n",
    "X_train = X_train.drop(columns=['Exterior 1st_Wd Sdng'])\n",
    "X_train = X_train.drop(columns=['Enclosed Porch'])\n",
    "X_train = X_train.drop(columns=['Condition 2_RRAn'])\n",
    "X_train = X_train.drop(columns=['Functional_Sal'])\n",
    "X_train = X_train.drop(columns=['MS SubClass_40'])\n",
    "X_train = X_train.drop(columns=['BsmtFin Type 2_ALQ'])\n",
    "X_train = X_train.drop(columns=['Roof Matl_WdShake'])\n",
    "X_train = X_train.drop(columns=['House Style_2.5Unf'])\n",
    "X_train = X_train.drop(columns=['Heating_Floor'])\n",
    "X_train = X_train.drop(columns=['Paved Drive_N'])\n",
    "X_train = X_train.drop(columns=['Garage Finish_Fin'])\n",
    "X_train = X_train.drop(columns=['MS SubClass_75'])\n",
    "X_train = X_train.drop(columns=['MS SubClass_50'])\n",
    "X_train = X_train.drop(columns=['Land Contour_Low'])\n",
    "X_train = X_train.drop(columns=['House Style_1.5Unf'])\n",
    "X_train = X_train.drop(columns=['Condition 2_RRNn'])\n",
    "X_train = X_train.drop(columns=['Garage Type_Basment'])\n",
    "X_train = X_train.drop(columns=['Functional_Maj2'])\n",
    "X_train = X_train.drop(columns=['Neighborhood_CollgCr'])\n",
    "X_train = X_train.drop(columns=['Electrical_FuseF'])\n",
    "X_train = X_train.drop(columns=['Lot Config_FR3'])\n",
    "X_train = X_train.drop(columns=['Condition 1_RRAn'])\n",
    "X_train = X_train.drop(columns=['Remod When Sold'])\n",
    "X_train = X_train.drop(columns=['Exterior 1st_HdBoard'])\n",
    "X_train = X_train.drop(columns=['MS SubClass_45'])\n",
    "X_train = X_train.drop(columns=['Neighborhood_Timber'])\n",
    "X_train = X_train.drop(columns=['Exterior 2nd_MetalSd'])\n",
    "X_train = X_train.drop(columns=['Fireplace Qu'])\n",
    "X_train = X_train.drop(columns=['Roof Matl_Tar&Grv'])\n",
    "X_train = X_train.drop(columns=['Neighborhood_Mitchel'])\n",
    "X_train = X_train.drop(columns=['Open Porch SF'])\n",
    "X_train = X_train.drop(columns=['Garage Type_BuiltIn'])\n",
    "X_train = X_train.drop(columns=['Electrical_FuseP'])\n",
    "X_train = X_train.drop(columns=['Sale Type_CWD'])\n",
    "X_train = X_train.drop(columns=['Lot Config_FR2'])\n",
    "X_train = X_train.drop(columns=['Alley_Pave'])\n",
    "X_train = X_train.drop(columns=['Roof Style_Gambrel'])\n",
    "X_train = X_train.drop(columns=['Exterior 2nd_Brk Cmn'])\n",
    "X_train = X_train.drop(columns=['Heating QC'])\n",
    "X_train = X_train.drop(columns=['Exterior 2nd_ImStucc'])\n",
    "X_train = X_train.drop(columns=['Garage Area'])\n",
    "X_train = X_train.drop(columns=['Condition 1_RRNe'])\n",
    "X_train = X_train.drop(columns=['Exterior 2nd_CBlock'])\n",
    "X_train = X_train.drop(columns=['Exterior 2nd_Stone'])\n",
    "X_train = X_train.drop(columns=['Garage Type_Detchd'])\n",
    "X_train = X_train.drop(columns=['Exterior 1st_MetalSd'])\n",
    "X_train = X_train.drop(columns=['Neighborhood_Greens'])\n",
    "X_train = X_train.drop(columns=['Exterior 2nd_Wd Sdng'])\n",
    "X_train = X_train.drop(columns=['Functional_Min1'])\n",
    "X_train = X_train.drop(columns=['Exterior 1st_WdShing'])\n",
    "X_train = X_train.drop(columns=['Lot Config_Corner'])\n",
    "X_train = X_train.drop(columns=['Mas Vnr Type_CBlock'])\n",
    "X_train = X_train.drop(columns=['Exterior 1st_Plywood'])\n",
    "X_train = X_train.drop(columns=['MS Zoning_I (all)'])\n",
    "X_train = X_train.drop(columns=['Exterior 2nd_Plywood'])\n",
    "X_train = X_train.drop(columns=['MS Zoning_C (all)'])\n",
    "X_train = X_train.drop(columns=['Neighborhood_Sawyer'])\n",
    "X_train = X_train.drop(columns=['Neighborhood_BrkSide'])\n",
    "X_train = X_train.drop(columns=['Roof Style_Shed'])\n",
    "X_train = X_train.drop(columns=['Sale Type_ConLD'])\n",
    "X_train = X_train.drop(columns=['MS Zoning_RM'])\n",
    "X_train = X_train.drop(columns=['Exterior 2nd_AsbShng'])\n",
    "X_train = X_train.drop(columns=['Exterior 1st_CBlock'])\n",
    "X_train = X_train.drop(columns=['Exterior 1st_AsbShng'])\n",
    "X_train = X_train.drop(columns=['Central Air_N'])\n",
    "X_train = X_train.drop(columns=['Full Bath'])\n",
    "X_train = X_train.drop(columns=['MS Zoning_FV'])\n",
    "X_train = X_train.drop(columns=['BsmtFin Type 2_None'])\n",
    "X_train = X_train.drop(columns=['Sale Type_Oth'])\n",
    "X_train = X_train.drop(columns=['House Style_2.5Fin'])\n",
    "X_train = X_train.drop(columns=['Bldg Type_2fmCon'])\n",
    "X_train = X_train.drop(columns=['Low Qual Fin SF'])\n",
    "X_train = X_train.drop(columns=['Condition 1_RRNn'])\n",
    "X_train = X_train.drop(columns=['Garage Type_2Types'])\n",
    "X_train = X_train.drop(columns=['BsmtFin Type 2_BLQ'])\n",
    "X_train = X_train.drop(columns=['MS SubClass_190'])\n",
    "X_train = X_train.drop(columns=['TotRms AbvGrd'])\n",
    "X_train = X_train.drop(columns=['House Style_1.5Fin'])\n",
    "X_train = X_train.drop(columns=['Heating_Grav'])\n",
    "X_train = X_train.drop(columns=['MS Zoning_RH'])\n",
    "X_train = X_train.drop(columns=['Functional_Min2'])\n",
    "X_train = X_train.drop(columns=['Mas Vnr Type_BrkCmn'])\n",
    "X_train = X_train.drop(columns=['BsmtFin Type 2_GLQ'])\n",
    "X_train = X_train.drop(columns=['Exterior 2nd_Wd Shng'])\n",
    "X_train = X_train.drop(columns=['Neighborhood_ClearCr'])\n",
    "X_train = X_train.drop(columns=['Half Bath'])\n",
    "X_train = X_train.drop(columns=['Exterior 2nd_AsphShn'])\n",
    "X_train = X_train.drop(columns=['Exterior 2nd_CmentBd'])\n",
    "X_train = X_train.drop(columns=['Misc Feature_Othr'])\n",
    "X_train = X_train.drop(columns=['MS SubClass_80'])\n",
    "X_train = X_train.drop(columns=['Neighborhood_Veenker'])\n",
    "X_train = X_train.drop(columns=['Kitchen AbvGr'])\n",
    "X_train = X_train.drop(columns=['Garage Qual'])\n",
    "X_train = X_train.drop(columns=['BsmtFin Type 1_BLQ'])\n",
    "X_train = X_train.drop(columns=['Exterior 2nd_BrkFace'])\n",
    "X_train = X_train.drop(columns=['Age When Sold'])\n",
    "X_train = X_train.drop(columns=['MS SubClass_70'])\n",
    "X_train = X_train.drop(columns=['MS SubClass_30'])\n",
    "X_train = X_train.drop(columns=['Neighborhood_NPkVill'])\n",
    "X_train = X_train.drop(columns=['BsmtFin Type 1_ALQ'])\n",
    "X_train = X_train.drop(columns=['MS SubClass_180'])\n",
    "X_train = X_train.drop(columns=['Exter Qual'])\n",
    "X_train = X_train.drop(columns=['Kitchen Qual'])\n",
    "X_train = X_train.drop(columns=['Bsmt Qual'])\n",
    "X_train = X_train.drop(columns=['Garage Cars'])     \n",
    "X_train = X_train.drop(columns=['Total Bsmt SF'])   \n",
    "X_train = X_train.drop(columns=['Mas Vnr Area'])  \n",
    "X_train = X_train.drop(columns=['Neighborhood_Crawfor'])\n",
    "X_train = X_train.drop(columns=['Functional_Maj1'])\n",
    "X_train = X_train.drop(columns=['Garage Finish_RFn'])\n",
    "X_train = X_train.drop(columns=['Mas Vnr Type_BrkFace'])\n",
    "X_train = X_train.drop(columns=['Garage Finish_None'])\n",
    "X_train = X_train.drop(columns=['Functional_Mod'])\n",
    "X_train = X_train.drop(columns=['Condition 2_PosA'])\n",
    "X_train = X_train.drop(columns=['Condition 1_PosA'])\n",
    "X_train = X_train.drop(columns=['Condition 1_RRAe'])\n",
    "X_train = X_train.drop(columns=['Roof Style_Mansard'])\n",
    "X_train = X_train.drop(columns=['Lot Shape_IR3'])\n",
    "X_train = X_train.drop(columns=['Neighborhood_Blmngtn'])\n",
    "X_train = X_train.drop(columns=['Exterior 1st_PreCast'])\n",
    "\n",
    "# Remove dropped variables from Test dataset\n",
    "X_test = X_test.drop(columns=['Paved Drive_P'])\n",
    "X_test = X_test.drop(columns=['Condition 2_Artery'])\n",
    "X_test = X_test.drop(columns=['Neighborhood_SawyerW'])\n",
    "X_test = X_test.drop(columns=['Foundation_BrkTil'])\n",
    "X_test = X_test.drop(columns=['Exterior 1st_AsphShn'])\n",
    "X_test = X_test.drop(columns=['Fence_MnPrv'])\n",
    "X_test = X_test.drop(columns=['Neighborhood_Gilbert'])\n",
    "X_test = X_test.drop(columns=['Exterior 2nd_PreCast'])\n",
    "X_test = X_test.drop(columns=['Condition 2_RRAe'])\n",
    "X_test = X_test.drop(columns=['Foundation_CBlock'])\n",
    "X_test = X_test.drop(columns=['Sale Type_ConLI'])\n",
    "X_test = X_test.drop(columns=['Misc Feature_Shed'])\n",
    "X_test = X_test.drop(columns=['Fence_GdWo'])\n",
    "X_test = X_test.drop(columns=['Neighborhood_IDOTRR'])\n",
    "X_test = X_test.drop(columns=['Bsmt Cond'])\n",
    "X_test = X_test.drop(columns=['Exterior 1st_BrkComm'])\n",
    "X_test = X_test.drop(columns=['Garage Cond'])\n",
    "X_test = X_test.drop(columns=['Condition 2_PosN'])\n",
    "X_test = X_test.drop(columns=['Neighborhood_OldTown'])\n",
    "X_test = X_test.drop(columns=['Street_Pave'])\n",
    "X_test = X_test.drop(columns=['MS SubClass_60'])\n",
    "X_test = X_test.drop(columns=['Neighborhood_Landmrk'])\n",
    "X_test = X_test.drop(columns=['Misc Feature_TenC'])\n",
    "X_test = X_test.drop(columns=['Lot Shape_IR1'])\n",
    "X_test = X_test.drop(columns=['Garage Type_CarPort'])\n",
    "X_test = X_test.drop(columns=['BsmtFin SF 1'])\n",
    "X_test = X_test.drop(columns=['Bldg Type_Twnhs'])\n",
    "X_test = X_test.drop(columns=['Foundation_Slab'])\n",
    "X_test = X_test.drop(columns=['House Style_SLvl'])\n",
    "X_test = X_test.drop(columns=['Electrical_FuseA'])\n",
    "X_test = X_test.drop(columns=['Bldg Type_TwnhsE'])\n",
    "X_test = X_test.drop(columns=['Exterior 1st_Stone'])\n",
    "X_test = X_test.drop(columns=['MS SubClass_85'])\n",
    "X_test = X_test.drop(columns=['Exterior 1st_ImStucc'])\n",
    "X_test = X_test.drop(columns=['Garage Type_None'])\n",
    "X_test = X_test.drop(columns=['Roof Style_Flat'])\n",
    "X_test = X_test.drop(columns=['Foundation_Stone'])\n",
    "X_test = X_test.drop(columns=['Sale Type_ConLw'])\n",
    "X_test = X_test.drop(columns=['Electrical_Mix'])\n",
    "X_test = X_test.drop(columns=['Misc Feature_Gar2'])\n",
    "X_test = X_test.drop(columns=['Neighborhood_SWISU'])\n",
    "X_test = X_test.drop(columns=['1st Flr SF'])\n",
    "X_test = X_test.drop(columns=['Heating_GasW'])\n",
    "X_test = X_test.drop(columns=['Fence_MnWw'])\n",
    "X_test = X_test.drop(columns=['Mas Vnr Type_Stone'])\n",
    "X_test = X_test.drop(columns=['Neighborhood_MeadowV'])\n",
    "X_test = X_test.drop(columns=['House Style_SFoyer'])\n",
    "X_test = X_test.drop(columns=['Exterior 2nd_Other'])\n",
    "X_test = X_test.drop(columns=['Neighborhood_Blueste'])\n",
    "X_test = X_test.drop(columns=['Heating_Wall'])\n",
    "X_test = X_test.drop(columns=['Fence_GdPrv'])\n",
    "X_test = X_test.drop(columns=['Condition 2_Feedr'])\n",
    "X_test = X_test.drop(columns=['Exterior 1st_Stucco'])\n",
    "X_test = X_test.drop(columns=['Alley_Grvl'])\n",
    "X_test = X_test.drop(columns=['Land Slope_Sev'])\n",
    "X_test = X_test.drop(columns=['Foundation_Wood'])\n",
    "X_test = X_test.drop(columns=['Exterior 1st_Wd Sdng'])\n",
    "X_test = X_test.drop(columns=['Enclosed Porch'])\n",
    "X_test = X_test.drop(columns=['Condition 2_RRAn'])\n",
    "X_test = X_test.drop(columns=['Functional_Sal'])\n",
    "X_test = X_test.drop(columns=['MS SubClass_40'])\n",
    "X_test = X_test.drop(columns=['BsmtFin Type 2_ALQ'])\n",
    "X_test = X_test.drop(columns=['Roof Matl_WdShake'])\n",
    "X_test = X_test.drop(columns=['House Style_2.5Unf'])\n",
    "X_test = X_test.drop(columns=['Heating_Floor'])\n",
    "X_test = X_test.drop(columns=['Paved Drive_N'])\n",
    "X_test = X_test.drop(columns=['Garage Finish_Fin'])\n",
    "X_test = X_test.drop(columns=['MS SubClass_75'])\n",
    "X_test = X_test.drop(columns=['MS SubClass_50'])\n",
    "X_test = X_test.drop(columns=['Land Contour_Low'])\n",
    "X_test = X_test.drop(columns=['House Style_1.5Unf'])\n",
    "X_test = X_test.drop(columns=['Condition 2_RRNn'])\n",
    "X_test = X_test.drop(columns=['Garage Type_Basment'])\n",
    "X_test = X_test.drop(columns=['Functional_Maj2'])\n",
    "X_test = X_test.drop(columns=['Neighborhood_CollgCr'])\n",
    "X_test = X_test.drop(columns=['Electrical_FuseF'])\n",
    "X_test = X_test.drop(columns=['Lot Config_FR3'])\n",
    "X_test = X_test.drop(columns=['Condition 1_RRAn'])\n",
    "X_test = X_test.drop(columns=['Remod When Sold'])\n",
    "X_test = X_test.drop(columns=['Exterior 1st_HdBoard'])\n",
    "X_test = X_test.drop(columns=['MS SubClass_45'])\n",
    "X_test = X_test.drop(columns=['Neighborhood_Timber'])\n",
    "X_test = X_test.drop(columns=['Exterior 2nd_MetalSd'])\n",
    "X_test = X_test.drop(columns=['Fireplace Qu'])\n",
    "X_test = X_test.drop(columns=['Roof Matl_Tar&Grv'])\n",
    "X_test = X_test.drop(columns=['Neighborhood_Mitchel'])\n",
    "X_test = X_test.drop(columns=['Open Porch SF'])\n",
    "X_test = X_test.drop(columns=['Garage Type_BuiltIn'])\n",
    "X_test = X_test.drop(columns=['Electrical_FuseP'])\n",
    "X_test = X_test.drop(columns=['Sale Type_CWD'])\n",
    "X_test = X_test.drop(columns=['Lot Config_FR2'])\n",
    "X_test = X_test.drop(columns=['Alley_Pave'])\n",
    "X_test = X_test.drop(columns=['Roof Style_Gambrel'])\n",
    "X_test = X_test.drop(columns=['Exterior 2nd_Brk Cmn'])\n",
    "X_test = X_test.drop(columns=['Heating QC'])\n",
    "X_test = X_test.drop(columns=['Exterior 2nd_ImStucc'])\n",
    "X_test = X_test.drop(columns=['Garage Area'])\n",
    "X_test = X_test.drop(columns=['Condition 1_RRNe'])\n",
    "X_test = X_test.drop(columns=['Exterior 2nd_CBlock'])\n",
    "X_test = X_test.drop(columns=['Exterior 2nd_Stone'])\n",
    "X_test = X_test.drop(columns=['Garage Type_Detchd'])\n",
    "X_test = X_test.drop(columns=['Exterior 1st_MetalSd'])\n",
    "X_test = X_test.drop(columns=['Neighborhood_Greens'])\n",
    "X_test = X_test.drop(columns=['Exterior 2nd_Wd Sdng'])\n",
    "X_test = X_test.drop(columns=['Functional_Min1'])\n",
    "X_test = X_test.drop(columns=['Exterior 1st_WdShing'])\n",
    "X_test = X_test.drop(columns=['Lot Config_Corner'])\n",
    "X_test = X_test.drop(columns=['Mas Vnr Type_CBlock'])\n",
    "X_test = X_test.drop(columns=['Exterior 1st_Plywood'])\n",
    "X_test = X_test.drop(columns=['MS Zoning_I (all)'])\n",
    "X_test = X_test.drop(columns=['Exterior 2nd_Plywood'])\n",
    "X_test = X_test.drop(columns=['MS Zoning_C (all)'])\n",
    "X_test = X_test.drop(columns=['Neighborhood_Sawyer'])\n",
    "X_test = X_test.drop(columns=['Neighborhood_BrkSide'])\n",
    "X_test = X_test.drop(columns=['Roof Style_Shed'])\n",
    "X_test = X_test.drop(columns=['Sale Type_ConLD'])\n",
    "X_test = X_test.drop(columns=['MS Zoning_RM'])\n",
    "X_test = X_test.drop(columns=['Exterior 2nd_AsbShng'])\n",
    "X_test = X_test.drop(columns=['Exterior 1st_CBlock'])\n",
    "X_test = X_test.drop(columns=['Exterior 1st_AsbShng'])\n",
    "X_test = X_test.drop(columns=['Central Air_N'])\n",
    "X_test = X_test.drop(columns=['Full Bath'])\n",
    "X_test = X_test.drop(columns=['MS Zoning_FV'])\n",
    "X_test = X_test.drop(columns=['BsmtFin Type 2_None'])\n",
    "X_test = X_test.drop(columns=['Sale Type_Oth'])\n",
    "X_test = X_test.drop(columns=['House Style_2.5Fin'])\n",
    "X_test = X_test.drop(columns=['Bldg Type_2fmCon'])\n",
    "X_test = X_test.drop(columns=['Low Qual Fin SF'])\n",
    "X_test = X_test.drop(columns=['Condition 1_RRNn'])\n",
    "X_test = X_test.drop(columns=['Garage Type_2Types'])\n",
    "X_test = X_test.drop(columns=['BsmtFin Type 2_BLQ'])\n",
    "X_test = X_test.drop(columns=['MS SubClass_190'])\n",
    "X_test = X_test.drop(columns=['TotRms AbvGrd'])\n",
    "X_test = X_test.drop(columns=['House Style_1.5Fin'])\n",
    "X_test = X_test.drop(columns=['Heating_Grav'])\n",
    "X_test = X_test.drop(columns=['MS Zoning_RH'])\n",
    "X_test = X_test.drop(columns=['Functional_Min2'])\n",
    "X_test = X_test.drop(columns=['Mas Vnr Type_BrkCmn'])\n",
    "X_test = X_test.drop(columns=['BsmtFin Type 2_GLQ'])\n",
    "X_test = X_test.drop(columns=['Exterior 2nd_Wd Shng'])\n",
    "X_test = X_test.drop(columns=['Neighborhood_ClearCr'])\n",
    "X_test = X_test.drop(columns=['Half Bath'])\n",
    "X_test = X_test.drop(columns=['Exterior 2nd_AsphShn'])\n",
    "X_test = X_test.drop(columns=['Exterior 2nd_CmentBd'])\n",
    "X_test = X_test.drop(columns=['Misc Feature_Othr'])\n",
    "X_test = X_test.drop(columns=['MS SubClass_80'])\n",
    "X_test = X_test.drop(columns=['Neighborhood_Veenker'])\n",
    "X_test = X_test.drop(columns=['Kitchen AbvGr'])\n",
    "X_test = X_test.drop(columns=['Garage Qual'])\n",
    "X_test = X_test.drop(columns=['BsmtFin Type 1_BLQ'])\n",
    "X_test = X_test.drop(columns=['Exterior 2nd_BrkFace'])\n",
    "X_test = X_test.drop(columns=['Age When Sold'])\n",
    "X_test = X_test.drop(columns=['MS SubClass_70'])\n",
    "X_test = X_test.drop(columns=['MS SubClass_30'])\n",
    "X_test = X_test.drop(columns=['Neighborhood_NPkVill'])\n",
    "X_test = X_test.drop(columns=['BsmtFin Type 1_ALQ'])\n",
    "X_test = X_test.drop(columns=['MS SubClass_180'])\n",
    "X_test = X_test.drop(columns=['Exter Qual'])\n",
    "X_test = X_test.drop(columns=['Kitchen Qual'])\n",
    "X_test = X_test.drop(columns=['Bsmt Qual'])       \n",
    "X_test = X_test.drop(columns=['Garage Cars'])     \n",
    "X_test = X_test.drop(columns=['Total Bsmt SF'])   \n",
    "X_test = X_test.drop(columns=['Mas Vnr Area'])  \n",
    "X_test = X_test.drop(columns=['Neighborhood_Crawfor'])\n",
    "X_test = X_test.drop(columns=['Functional_Maj1'])\n",
    "X_test = X_test.drop(columns=['Garage Finish_RFn'])\n",
    "X_test = X_test.drop(columns=['Mas Vnr Type_BrkFace'])\n",
    "X_test = X_test.drop(columns=['Garage Finish_None'])\n",
    "X_test = X_test.drop(columns=['Functional_Mod'])\n",
    "X_test = X_test.drop(columns=['Condition 2_PosA'])\n",
    "X_test = X_test.drop(columns=['Condition 1_PosA'])\n",
    "X_test = X_test.drop(columns=['Condition 1_RRAe'])\n",
    "X_test = X_test.drop(columns=['Roof Style_Mansard'])\n",
    "X_test = X_test.drop(columns=['Lot Shape_IR3'])\n",
    "X_test = X_test.drop(columns=['Neighborhood_Blmngtn'])\n",
    "X_test = X_test.drop(columns=['Exterior 1st_PreCast'])"
   ]
  },
  {
   "cell_type": "code",
   "execution_count": 601,
   "id": "74a785b9",
   "metadata": {},
   "outputs": [],
   "source": [
    "#Explored squared variable of Overall Qual\n",
    "X_train[\"Overall Qual^2\"] = X_train[\"Overall Qual\"] ** 2\n",
    "X_test[\"Overall Qual^2\"] = X_test[\"Overall Qual\"]** 2"
   ]
  },
  {
   "cell_type": "code",
   "execution_count": 602,
   "id": "ec5f62e0",
   "metadata": {},
   "outputs": [],
   "source": [
    "#Sort columns ready for OLS\n",
    "X_train = X_train.sort_index(axis = 1)\n",
    "X_test = X_test.sort_index(axis = 1)"
   ]
  },
  {
   "cell_type": "code",
   "execution_count": 603,
   "id": "2c12e8b0",
   "metadata": {
    "scrolled": false
   },
   "outputs": [
    {
     "data": {
      "text/html": [
       "<table class=\"simpletable\">\n",
       "<caption>OLS Regression Results</caption>\n",
       "<tr>\n",
       "  <th>Dep. Variable:</th>        <td>SalePrice</td>    <th>  R-squared:         </th> <td>   0.891</td> \n",
       "</tr>\n",
       "<tr>\n",
       "  <th>Model:</th>                   <td>OLS</td>       <th>  Adj. R-squared:    </th> <td>   0.889</td> \n",
       "</tr>\n",
       "<tr>\n",
       "  <th>Method:</th>             <td>Least Squares</td>  <th>  F-statistic:       </th> <td>   364.2</td> \n",
       "</tr>\n",
       "<tr>\n",
       "  <th>Date:</th>             <td>Fri, 28 Oct 2022</td> <th>  Prob (F-statistic):</th>  <td>  0.00</td>  \n",
       "</tr>\n",
       "<tr>\n",
       "  <th>Time:</th>                 <td>18:19:53</td>     <th>  Log-Likelihood:    </th> <td> -23727.</td> \n",
       "</tr>\n",
       "<tr>\n",
       "  <th>No. Observations:</th>      <td>  2047</td>      <th>  AIC:               </th> <td>4.755e+04</td>\n",
       "</tr>\n",
       "<tr>\n",
       "  <th>Df Residuals:</th>          <td>  2001</td>      <th>  BIC:               </th> <td>4.780e+04</td>\n",
       "</tr>\n",
       "<tr>\n",
       "  <th>Df Model:</th>              <td>    45</td>      <th>                     </th>     <td> </td>    \n",
       "</tr>\n",
       "<tr>\n",
       "  <th>Covariance Type:</th>      <td>nonrobust</td>    <th>                     </th>     <td> </td>    \n",
       "</tr>\n",
       "</table>\n",
       "<table class=\"simpletable\">\n",
       "<tr>\n",
       "            <td></td>              <th>coef</th>     <th>std err</th>      <th>t</th>      <th>P>|t|</th>  <th>[0.025</th>    <th>0.975]</th>  \n",
       "</tr>\n",
       "<tr>\n",
       "  <th>const</th>                <td> 6.447e+04</td> <td> 9146.062</td> <td>    7.049</td> <td> 0.000</td> <td> 4.65e+04</td> <td> 8.24e+04</td>\n",
       "</tr>\n",
       "<tr>\n",
       "  <th>Bldg Type_Duplex</th>     <td>-4109.0334</td> <td> 1692.003</td> <td>   -2.429</td> <td> 0.015</td> <td>-7427.306</td> <td> -790.761</td>\n",
       "</tr>\n",
       "<tr>\n",
       "  <th>Bsmt Unf SF</th>          <td>  -10.5593</td> <td>    1.974</td> <td>   -5.349</td> <td> 0.000</td> <td>  -14.431</td> <td>   -6.688</td>\n",
       "</tr>\n",
       "<tr>\n",
       "  <th>BsmtFin Type 1_LwQ</th>   <td>-1.478e+04</td> <td> 2816.493</td> <td>   -5.247</td> <td> 0.000</td> <td>-2.03e+04</td> <td>-9255.294</td>\n",
       "</tr>\n",
       "<tr>\n",
       "  <th>BsmtFin Type 1_None</th>  <td>-3.924e+04</td> <td> 4205.813</td> <td>   -9.331</td> <td> 0.000</td> <td>-4.75e+04</td> <td> -3.1e+04</td>\n",
       "</tr>\n",
       "<tr>\n",
       "  <th>BsmtFin Type 1_Rec</th>   <td>-1.058e+04</td> <td> 2244.612</td> <td>   -4.712</td> <td> 0.000</td> <td> -1.5e+04</td> <td>-6174.714</td>\n",
       "</tr>\n",
       "<tr>\n",
       "  <th>BsmtFin Type 1_Unf</th>   <td>-1.856e+04</td> <td> 1859.758</td> <td>   -9.980</td> <td> 0.000</td> <td>-2.22e+04</td> <td>-1.49e+04</td>\n",
       "</tr>\n",
       "<tr>\n",
       "  <th>BsmtFin Type 2_LwQ</th>   <td>-8778.9431</td> <td> 3598.878</td> <td>   -2.439</td> <td> 0.015</td> <td>-1.58e+04</td> <td>-1721.003</td>\n",
       "</tr>\n",
       "<tr>\n",
       "  <th>BsmtFin Type 2_Rec</th>   <td>-8744.4830</td> <td> 3162.177</td> <td>   -2.765</td> <td> 0.006</td> <td>-1.49e+04</td> <td>-2542.978</td>\n",
       "</tr>\n",
       "<tr>\n",
       "  <th>Condition 1_Artery</th>   <td>-2.032e+04</td> <td> 3316.292</td> <td>   -6.126</td> <td> 0.000</td> <td>-2.68e+04</td> <td>-1.38e+04</td>\n",
       "</tr>\n",
       "<tr>\n",
       "  <th>Condition 1_Feedr</th>    <td>-1.011e+04</td> <td> 2683.595</td> <td>   -3.767</td> <td> 0.000</td> <td>-1.54e+04</td> <td>-4846.517</td>\n",
       "</tr>\n",
       "<tr>\n",
       "  <th>Condition 1_PosN</th>     <td> 1.118e+04</td> <td> 5258.087</td> <td>    2.125</td> <td> 0.034</td> <td>  864.164</td> <td> 2.15e+04</td>\n",
       "</tr>\n",
       "<tr>\n",
       "  <th>Exterior 1st_BrkFace</th> <td> 1.004e+04</td> <td> 3486.589</td> <td>    2.881</td> <td> 0.004</td> <td> 3207.077</td> <td> 1.69e+04</td>\n",
       "</tr>\n",
       "<tr>\n",
       "  <th>Exterior 1st_CemntBd</th> <td> 1.105e+04</td> <td> 3093.729</td> <td>    3.572</td> <td> 0.000</td> <td> 4984.750</td> <td> 1.71e+04</td>\n",
       "</tr>\n",
       "<tr>\n",
       "  <th>Exterior 2nd_HdBoard</th> <td>-4833.0078</td> <td> 1873.197</td> <td>   -2.580</td> <td> 0.010</td> <td>-8506.628</td> <td>-1159.387</td>\n",
       "</tr>\n",
       "<tr>\n",
       "  <th>Exterior 2nd_Stucco</th>  <td>-1.105e+04</td> <td> 5023.666</td> <td>   -2.200</td> <td> 0.028</td> <td>-2.09e+04</td> <td>-1198.835</td>\n",
       "</tr>\n",
       "<tr>\n",
       "  <th>Functional_Sev</th>       <td> -7.11e+04</td> <td> 1.91e+04</td> <td>   -3.729</td> <td> 0.000</td> <td>-1.09e+05</td> <td>-3.37e+04</td>\n",
       "</tr>\n",
       "<tr>\n",
       "  <th>Gr Liv Area</th>          <td>   71.9156</td> <td>    1.889</td> <td>   38.077</td> <td> 0.000</td> <td>   68.212</td> <td>   75.620</td>\n",
       "</tr>\n",
       "<tr>\n",
       "  <th>Heating_OthW</th>         <td> -9.63e+04</td> <td> 1.89e+04</td> <td>   -5.093</td> <td> 0.000</td> <td>-1.33e+05</td> <td>-5.92e+04</td>\n",
       "</tr>\n",
       "<tr>\n",
       "  <th>House Style_2Story</th>   <td>-1.655e+04</td> <td> 1792.954</td> <td>   -9.233</td> <td> 0.000</td> <td>-2.01e+04</td> <td> -1.3e+04</td>\n",
       "</tr>\n",
       "<tr>\n",
       "  <th>Land Contour_Bnk</th>     <td>-1.297e+04</td> <td> 3184.340</td> <td>   -4.074</td> <td> 0.000</td> <td>-1.92e+04</td> <td>-6727.776</td>\n",
       "</tr>\n",
       "<tr>\n",
       "  <th>Land Contour_HLS</th>     <td> 9884.5081</td> <td> 3370.873</td> <td>    2.932</td> <td> 0.003</td> <td> 3273.720</td> <td> 1.65e+04</td>\n",
       "</tr>\n",
       "<tr>\n",
       "  <th>Land Slope_Mod</th>       <td> 1.419e+04</td> <td> 3161.695</td> <td>    4.487</td> <td> 0.000</td> <td> 7986.869</td> <td> 2.04e+04</td>\n",
       "</tr>\n",
       "<tr>\n",
       "  <th>Lot Config_CulDSac</th>   <td>  1.04e+04</td> <td> 2554.408</td> <td>    4.070</td> <td> 0.000</td> <td> 5388.037</td> <td> 1.54e+04</td>\n",
       "</tr>\n",
       "<tr>\n",
       "  <th>Lot Shape_IR2</th>        <td> 1.337e+04</td> <td> 3786.159</td> <td>    3.531</td> <td> 0.000</td> <td> 5944.180</td> <td> 2.08e+04</td>\n",
       "</tr>\n",
       "<tr>\n",
       "  <th>MS SubClass_120</th>      <td>-1.765e+04</td> <td> 2761.644</td> <td>   -6.390</td> <td> 0.000</td> <td>-2.31e+04</td> <td>-1.22e+04</td>\n",
       "</tr>\n",
       "<tr>\n",
       "  <th>MS SubClass_150</th>      <td>-8.802e+04</td> <td> 2.67e+04</td> <td>   -3.294</td> <td> 0.001</td> <td> -1.4e+05</td> <td>-3.56e+04</td>\n",
       "</tr>\n",
       "<tr>\n",
       "  <th>MS SubClass_160</th>      <td>-1.844e+04</td> <td> 3774.699</td> <td>   -4.885</td> <td> 0.000</td> <td>-2.58e+04</td> <td> -1.1e+04</td>\n",
       "</tr>\n",
       "<tr>\n",
       "  <th>MS SubClass_90</th>       <td>-4109.0334</td> <td> 1692.003</td> <td>   -2.429</td> <td> 0.015</td> <td>-7427.306</td> <td> -790.761</td>\n",
       "</tr>\n",
       "<tr>\n",
       "  <th>MS Zoning_RL</th>         <td> 2.002e+04</td> <td> 1772.109</td> <td>   11.296</td> <td> 0.000</td> <td> 1.65e+04</td> <td> 2.35e+04</td>\n",
       "</tr>\n",
       "<tr>\n",
       "  <th>Misc Feature_Elev</th>    <td>-4.219e+05</td> <td> 2.78e+04</td> <td>  -15.183</td> <td> 0.000</td> <td>-4.76e+05</td> <td>-3.67e+05</td>\n",
       "</tr>\n",
       "<tr>\n",
       "  <th>Neighborhood_BrDale</th>  <td> 1.855e+04</td> <td> 7260.336</td> <td>    2.556</td> <td> 0.011</td> <td> 4315.831</td> <td> 3.28e+04</td>\n",
       "</tr>\n",
       "<tr>\n",
       "  <th>Neighborhood_Edwards</th> <td>-1.137e+04</td> <td> 2437.522</td> <td>   -4.665</td> <td> 0.000</td> <td>-1.62e+04</td> <td>-6591.889</td>\n",
       "</tr>\n",
       "<tr>\n",
       "  <th>Neighborhood_GrnHill</th> <td> 1.288e+05</td> <td> 1.91e+04</td> <td>    6.741</td> <td> 0.000</td> <td> 9.13e+04</td> <td> 1.66e+05</td>\n",
       "</tr>\n",
       "<tr>\n",
       "  <th>Neighborhood_NWAmes</th>  <td>-7504.9719</td> <td> 3064.098</td> <td>   -2.449</td> <td> 0.014</td> <td>-1.35e+04</td> <td>-1495.815</td>\n",
       "</tr>\n",
       "<tr>\n",
       "  <th>Neighborhood_NoRidge</th> <td> 2.298e+04</td> <td> 4290.182</td> <td>    5.358</td> <td> 0.000</td> <td> 1.46e+04</td> <td> 3.14e+04</td>\n",
       "</tr>\n",
       "<tr>\n",
       "  <th>Neighborhood_NridgHt</th> <td> 3.996e+04</td> <td> 3179.820</td> <td>   12.566</td> <td> 0.000</td> <td> 3.37e+04</td> <td> 4.62e+04</td>\n",
       "</tr>\n",
       "<tr>\n",
       "  <th>Neighborhood_Somerst</th> <td> 2.704e+04</td> <td> 3040.036</td> <td>    8.896</td> <td> 0.000</td> <td> 2.11e+04</td> <td>  3.3e+04</td>\n",
       "</tr>\n",
       "<tr>\n",
       "  <th>Neighborhood_StoneBr</th> <td> 3.344e+04</td> <td> 5062.305</td> <td>    6.605</td> <td> 0.000</td> <td> 2.35e+04</td> <td> 4.34e+04</td>\n",
       "</tr>\n",
       "<tr>\n",
       "  <th>Overall Cond</th>         <td> 3258.2324</td> <td>  581.829</td> <td>    5.600</td> <td> 0.000</td> <td> 2117.179</td> <td> 4399.286</td>\n",
       "</tr>\n",
       "<tr>\n",
       "  <th>Overall Qual</th>         <td>-2.775e+04</td> <td> 3048.284</td> <td>   -9.103</td> <td> 0.000</td> <td>-3.37e+04</td> <td>-2.18e+04</td>\n",
       "</tr>\n",
       "<tr>\n",
       "  <th>Overall Qual^2</th>       <td> 4042.4801</td> <td>  249.063</td> <td>   16.231</td> <td> 0.000</td> <td> 3554.031</td> <td> 4530.930</td>\n",
       "</tr>\n",
       "<tr>\n",
       "  <th>Roof Matl_WdShngl</th>    <td>  2.93e+04</td> <td> 1.22e+04</td> <td>    2.407</td> <td> 0.016</td> <td> 5421.869</td> <td> 5.32e+04</td>\n",
       "</tr>\n",
       "<tr>\n",
       "  <th>Roof Style_Hip</th>       <td> 8173.7009</td> <td> 1597.582</td> <td>    5.116</td> <td> 0.000</td> <td> 5040.603</td> <td> 1.13e+04</td>\n",
       "</tr>\n",
       "<tr>\n",
       "  <th>Sale Type_COD</th>        <td> -1.04e+04</td> <td> 3482.463</td> <td>   -2.988</td> <td> 0.003</td> <td>-1.72e+04</td> <td>-3574.267</td>\n",
       "</tr>\n",
       "<tr>\n",
       "  <th>Sale Type_Con</th>        <td> 4.232e+04</td> <td> 1.34e+04</td> <td>    3.168</td> <td> 0.002</td> <td> 1.61e+04</td> <td> 6.85e+04</td>\n",
       "</tr>\n",
       "<tr>\n",
       "  <th>Sale Type_New</th>        <td> 2.838e+04</td> <td> 2507.515</td> <td>   11.320</td> <td> 0.000</td> <td> 2.35e+04</td> <td> 3.33e+04</td>\n",
       "</tr>\n",
       "</table>\n",
       "<table class=\"simpletable\">\n",
       "<tr>\n",
       "  <th>Omnibus:</th>       <td>380.522</td> <th>  Durbin-Watson:     </th> <td>   1.800</td>\n",
       "</tr>\n",
       "<tr>\n",
       "  <th>Prob(Omnibus):</th> <td> 0.000</td>  <th>  Jarque-Bera (JB):  </th> <td>2135.996</td>\n",
       "</tr>\n",
       "<tr>\n",
       "  <th>Skew:</th>          <td> 0.754</td>  <th>  Prob(JB):          </th> <td>    0.00</td>\n",
       "</tr>\n",
       "<tr>\n",
       "  <th>Kurtosis:</th>      <td> 7.771</td>  <th>  Cond. No.          </th> <td>1.05e+16</td>\n",
       "</tr>\n",
       "</table><br/><br/>Notes:<br/>[1] Standard Errors assume that the covariance matrix of the errors is correctly specified.<br/>[2] The smallest eigenvalue is 5.23e-23. This might indicate that there are<br/>strong multicollinearity problems or that the design matrix is singular."
      ],
      "text/plain": [
       "<class 'statsmodels.iolib.summary.Summary'>\n",
       "\"\"\"\n",
       "                            OLS Regression Results                            \n",
       "==============================================================================\n",
       "Dep. Variable:              SalePrice   R-squared:                       0.891\n",
       "Model:                            OLS   Adj. R-squared:                  0.889\n",
       "Method:                 Least Squares   F-statistic:                     364.2\n",
       "Date:                Fri, 28 Oct 2022   Prob (F-statistic):               0.00\n",
       "Time:                        18:19:53   Log-Likelihood:                -23727.\n",
       "No. Observations:                2047   AIC:                         4.755e+04\n",
       "Df Residuals:                    2001   BIC:                         4.780e+04\n",
       "Df Model:                          45                                         \n",
       "Covariance Type:            nonrobust                                         \n",
       "========================================================================================\n",
       "                           coef    std err          t      P>|t|      [0.025      0.975]\n",
       "----------------------------------------------------------------------------------------\n",
       "const                 6.447e+04   9146.062      7.049      0.000    4.65e+04    8.24e+04\n",
       "Bldg Type_Duplex     -4109.0334   1692.003     -2.429      0.015   -7427.306    -790.761\n",
       "Bsmt Unf SF            -10.5593      1.974     -5.349      0.000     -14.431      -6.688\n",
       "BsmtFin Type 1_LwQ   -1.478e+04   2816.493     -5.247      0.000   -2.03e+04   -9255.294\n",
       "BsmtFin Type 1_None  -3.924e+04   4205.813     -9.331      0.000   -4.75e+04    -3.1e+04\n",
       "BsmtFin Type 1_Rec   -1.058e+04   2244.612     -4.712      0.000    -1.5e+04   -6174.714\n",
       "BsmtFin Type 1_Unf   -1.856e+04   1859.758     -9.980      0.000   -2.22e+04   -1.49e+04\n",
       "BsmtFin Type 2_LwQ   -8778.9431   3598.878     -2.439      0.015   -1.58e+04   -1721.003\n",
       "BsmtFin Type 2_Rec   -8744.4830   3162.177     -2.765      0.006   -1.49e+04   -2542.978\n",
       "Condition 1_Artery   -2.032e+04   3316.292     -6.126      0.000   -2.68e+04   -1.38e+04\n",
       "Condition 1_Feedr    -1.011e+04   2683.595     -3.767      0.000   -1.54e+04   -4846.517\n",
       "Condition 1_PosN      1.118e+04   5258.087      2.125      0.034     864.164    2.15e+04\n",
       "Exterior 1st_BrkFace  1.004e+04   3486.589      2.881      0.004    3207.077    1.69e+04\n",
       "Exterior 1st_CemntBd  1.105e+04   3093.729      3.572      0.000    4984.750    1.71e+04\n",
       "Exterior 2nd_HdBoard -4833.0078   1873.197     -2.580      0.010   -8506.628   -1159.387\n",
       "Exterior 2nd_Stucco  -1.105e+04   5023.666     -2.200      0.028   -2.09e+04   -1198.835\n",
       "Functional_Sev        -7.11e+04   1.91e+04     -3.729      0.000   -1.09e+05   -3.37e+04\n",
       "Gr Liv Area             71.9156      1.889     38.077      0.000      68.212      75.620\n",
       "Heating_OthW          -9.63e+04   1.89e+04     -5.093      0.000   -1.33e+05   -5.92e+04\n",
       "House Style_2Story   -1.655e+04   1792.954     -9.233      0.000   -2.01e+04    -1.3e+04\n",
       "Land Contour_Bnk     -1.297e+04   3184.340     -4.074      0.000   -1.92e+04   -6727.776\n",
       "Land Contour_HLS      9884.5081   3370.873      2.932      0.003    3273.720    1.65e+04\n",
       "Land Slope_Mod        1.419e+04   3161.695      4.487      0.000    7986.869    2.04e+04\n",
       "Lot Config_CulDSac     1.04e+04   2554.408      4.070      0.000    5388.037    1.54e+04\n",
       "Lot Shape_IR2         1.337e+04   3786.159      3.531      0.000    5944.180    2.08e+04\n",
       "MS SubClass_120      -1.765e+04   2761.644     -6.390      0.000   -2.31e+04   -1.22e+04\n",
       "MS SubClass_150      -8.802e+04   2.67e+04     -3.294      0.001    -1.4e+05   -3.56e+04\n",
       "MS SubClass_160      -1.844e+04   3774.699     -4.885      0.000   -2.58e+04    -1.1e+04\n",
       "MS SubClass_90       -4109.0334   1692.003     -2.429      0.015   -7427.306    -790.761\n",
       "MS Zoning_RL          2.002e+04   1772.109     11.296      0.000    1.65e+04    2.35e+04\n",
       "Misc Feature_Elev    -4.219e+05   2.78e+04    -15.183      0.000   -4.76e+05   -3.67e+05\n",
       "Neighborhood_BrDale   1.855e+04   7260.336      2.556      0.011    4315.831    3.28e+04\n",
       "Neighborhood_Edwards -1.137e+04   2437.522     -4.665      0.000   -1.62e+04   -6591.889\n",
       "Neighborhood_GrnHill  1.288e+05   1.91e+04      6.741      0.000    9.13e+04    1.66e+05\n",
       "Neighborhood_NWAmes  -7504.9719   3064.098     -2.449      0.014   -1.35e+04   -1495.815\n",
       "Neighborhood_NoRidge  2.298e+04   4290.182      5.358      0.000    1.46e+04    3.14e+04\n",
       "Neighborhood_NridgHt  3.996e+04   3179.820     12.566      0.000    3.37e+04    4.62e+04\n",
       "Neighborhood_Somerst  2.704e+04   3040.036      8.896      0.000    2.11e+04     3.3e+04\n",
       "Neighborhood_StoneBr  3.344e+04   5062.305      6.605      0.000    2.35e+04    4.34e+04\n",
       "Overall Cond          3258.2324    581.829      5.600      0.000    2117.179    4399.286\n",
       "Overall Qual         -2.775e+04   3048.284     -9.103      0.000   -3.37e+04   -2.18e+04\n",
       "Overall Qual^2        4042.4801    249.063     16.231      0.000    3554.031    4530.930\n",
       "Roof Matl_WdShngl      2.93e+04   1.22e+04      2.407      0.016    5421.869    5.32e+04\n",
       "Roof Style_Hip        8173.7009   1597.582      5.116      0.000    5040.603    1.13e+04\n",
       "Sale Type_COD         -1.04e+04   3482.463     -2.988      0.003   -1.72e+04   -3574.267\n",
       "Sale Type_Con         4.232e+04   1.34e+04      3.168      0.002    1.61e+04    6.85e+04\n",
       "Sale Type_New         2.838e+04   2507.515     11.320      0.000    2.35e+04    3.33e+04\n",
       "==============================================================================\n",
       "Omnibus:                      380.522   Durbin-Watson:                   1.800\n",
       "Prob(Omnibus):                  0.000   Jarque-Bera (JB):             2135.996\n",
       "Skew:                           0.754   Prob(JB):                         0.00\n",
       "Kurtosis:                       7.771   Cond. No.                     1.05e+16\n",
       "==============================================================================\n",
       "\n",
       "Notes:\n",
       "[1] Standard Errors assume that the covariance matrix of the errors is correctly specified.\n",
       "[2] The smallest eigenvalue is 5.23e-23. This might indicate that there are\n",
       "strong multicollinearity problems or that the design matrix is singular.\n",
       "\"\"\""
      ]
     },
     "execution_count": 603,
     "metadata": {},
     "output_type": "execute_result"
    }
   ],
   "source": [
    "X_ols_train = sm.add_constant(X_train)\n",
    "ols_train = sm.OLS(y_train, X_ols_train).fit()\n",
    "ols_train.summary()"
   ]
  },
  {
   "cell_type": "markdown",
   "id": "5eb9a2a3",
   "metadata": {},
   "source": [
    "<font color='blue'><b>Correlation Analysis</b></font></br>\n",
    "After dropping variables with high correlation, the remaining variables do not have any correlation more than 0.3. "
   ]
  },
  {
   "cell_type": "code",
   "execution_count": 604,
   "id": "9ee67c0f",
   "metadata": {},
   "outputs": [
    {
     "data": {
      "text/plain": [
       "<AxesSubplot:>"
      ]
     },
     "execution_count": 604,
     "metadata": {},
     "output_type": "execute_result"
    },
    {
     "data": {
      "image/png": "[encoded data removed]",
      "text/plain": [
       "<Figure size 1080x1080 with 2 Axes>"
      ]
     },
     "metadata": {
      "needs_background": "light"
     },
     "output_type": "display_data"
    }
   ],
   "source": [
    "df_cor_test = train[['Bsmt Unf SF',\n",
    "                     'Overall Cond',\n",
    "                     'Overall Qual',\n",
    "                     'Lot Frontage',\n",
    "                     'Lot Area'\n",
    "                   ]]\n",
    "plt.figure(figsize=(15,15))\n",
    "sns.heatmap(df_cor_test.corr(), annot=True)"
   ]
  },
  {
   "cell_type": "markdown",
   "id": "9f67d986",
   "metadata": {},
   "source": [
    "<font color='blue'><b>Comparing Models</b></font></br>\n",
    "Three modelling techniques were used with the following results:</br>\n",
    "\n",
    "|Method|R-Square|RMSE|\n",
    "|:---|:---|:---|\n",
    "|Linear Regression|89.1|26,161|\n",
    "|Lasso Regression|89.1|26,161|\n",
    "|Ridge Regression|88.7|26,658|\n",
    "\n",
    "The linear Regression was used in the Kaggle submission with the following scores:</br>\n",
    "Private: 24476.54673</br>\n",
    "Public: 30186.24982"
   ]
  },
  {
   "cell_type": "markdown",
   "id": "dda2a6ca",
   "metadata": {},
   "source": [
    "<b>Linear Regression</b></br>"
   ]
  },
  {
   "cell_type": "code",
   "execution_count": 605,
   "id": "2dc2b16d",
   "metadata": {},
   "outputs": [],
   "source": [
    "model_reg = LinearRegression()\n",
    "model_reg.fit(X_train, y_train)\n",
    "y_reg_preds_train = model_reg.predict(X_train)\n",
    "y_reg_preds_test = model_reg.predict(X_test)"
   ]
  },
  {
   "cell_type": "code",
   "execution_count": 606,
   "id": "c776bd4c",
   "metadata": {},
   "outputs": [
    {
     "name": "stdout",
     "output_type": "stream",
     "text": [
      "Constant\t   64471.95307970661\n"
     ]
    },
    {
     "data": {
      "text/plain": [
       "Bldg Type_Duplex         -4109.033441\n",
       "Bsmt Unf SF                -10.559347\n",
       "BsmtFin Type 1_LwQ      -14778.859549\n",
       "BsmtFin Type 1_None     -39244.919367\n",
       "BsmtFin Type 1_Rec      -10576.736221\n",
       "BsmtFin Type 1_Unf      -18560.154055\n",
       "BsmtFin Type 2_LwQ       -8778.943115\n",
       "BsmtFin Type 2_Rec       -8744.483028\n",
       "Condition 1_Artery      -20316.996346\n",
       "Condition 1_Feedr       -10109.450705\n",
       "Condition 1_PosN         11176.061641\n",
       "Exterior 1st_BrkFace     10044.802794\n",
       "Exterior 1st_CemntBd     11052.016874\n",
       "Exterior 2nd_HdBoard     -4833.007772\n",
       "Exterior 2nd_Stucco     -11050.999533\n",
       "Functional_Sev          -71104.612794\n",
       "Gr Liv Area                 71.915587\n",
       "Heating_OthW            -96297.264632\n",
       "House Style_2Story      -16553.964694\n",
       "Land Contour_Bnk        -12972.745276\n",
       "Land Contour_HLS          9884.508103\n",
       "Land Slope_Mod           14187.428433\n",
       "Lot Config_CulDSac       10397.614814\n",
       "Lot Shape_IR2            13369.405882\n",
       "MS SubClass_120         -17648.150247\n",
       "MS SubClass_150         -88019.839466\n",
       "MS SubClass_160         -18440.103238\n",
       "MS SubClass_90           -4109.033441\n",
       "MS Zoning_RL             20017.137966\n",
       "Misc Feature_Elev      -421918.081973\n",
       "Neighborhood_BrDale      18554.441199\n",
       "Neighborhood_Edwards    -11372.236299\n",
       "Neighborhood_GrnHill    128795.839174\n",
       "Neighborhood_NWAmes      -7504.971870\n",
       "Neighborhood_NoRidge     22984.745538\n",
       "Neighborhood_NridgHt     39956.280428\n",
       "Neighborhood_Somerst     27043.541781\n",
       "Neighborhood_StoneBr     33437.235224\n",
       "Overall Cond              3258.232428\n",
       "Overall Qual            -27747.783495\n",
       "Overall Qual^2            4042.480053\n",
       "Roof Matl_WdShngl        29295.091548\n",
       "Roof Style_Hip            8173.700908\n",
       "Sale Type_COD           -10403.900737\n",
       "Sale Type_Con            42317.820524\n",
       "Sale Type_New            28383.896174\n",
       "dtype: float64"
      ]
     },
     "execution_count": 606,
     "metadata": {},
     "output_type": "execute_result"
    }
   ],
   "source": [
    "print(\"Constant\" + \"\\t   \" + str(model_reg.intercept_))\n",
    "pd.Series(model_reg.coef_, index = X_train.columns.values.tolist())"
   ]
  },
  {
   "cell_type": "code",
   "execution_count": 607,
   "id": "2dabbb83",
   "metadata": {},
   "outputs": [
    {
     "data": {
      "text/plain": [
       "0.8911894608808034"
      ]
     },
     "execution_count": 607,
     "metadata": {},
     "output_type": "execute_result"
    }
   ],
   "source": [
    "metrics.r2_score(y_train, y_reg_preds_train)"
   ]
  },
  {
   "cell_type": "code",
   "execution_count": 608,
   "id": "a340dbd3",
   "metadata": {},
   "outputs": [
    {
     "data": {
      "text/plain": [
       "26160.834366627852"
      ]
     },
     "execution_count": 608,
     "metadata": {},
     "output_type": "execute_result"
    }
   ],
   "source": [
    "#Root Mean Squared Error (RMSE)\n",
    "np.sqrt(metrics.mean_squared_error(y_train, y_reg_preds_train))"
   ]
  },
  {
   "cell_type": "code",
   "execution_count": 609,
   "id": "ff4f0639",
   "metadata": {},
   "outputs": [
    {
     "data": {
      "image/png": "[encoded data removed]",
      "text/plain": [
       "<Figure size 360x360 with 1 Axes>"
      ]
     },
     "metadata": {
      "needs_background": "light"
     },
     "output_type": "display_data"
    }
   ],
   "source": [
    "plt.scatter(y_train, y_reg_preds_train , alpha=0.5)\n",
    "plt.show()"
   ]
  },
  {
   "cell_type": "code",
   "execution_count": 610,
   "id": "b726ed15",
   "metadata": {},
   "outputs": [
    {
     "data": {
      "text/plain": [
       "<AxesSubplot:>"
      ]
     },
     "execution_count": 610,
     "metadata": {},
     "output_type": "execute_result"
    },
    {
     "data": {
      "image/png": "[encoded data removed]",
      "text/plain": [
       "<Figure size 360x360 with 1 Axes>"
      ]
     },
     "metadata": {
      "needs_background": "light"
     },
     "output_type": "display_data"
    }
   ],
   "source": [
    "#Residual histogram\n",
    "reg_residual = y_train - y_reg_preds_train\n",
    "reg_residual.hist(bins=10)"
   ]
  },
  {
   "cell_type": "code",
   "execution_count": 611,
   "id": "0b15d3eb",
   "metadata": {},
   "outputs": [
    {
     "data": {
      "image/png": "[encoded data removed]",
      "text/plain": [
       "<Figure size 360x360 with 1 Axes>"
      ]
     },
     "metadata": {
      "needs_background": "light"
     },
     "output_type": "display_data"
    }
   ],
   "source": [
    "#Scatter Plot\n",
    "plt.scatter(y_reg_preds_train, reg_residual, alpha=0.5)\n",
    "plt.rcParams[\"figure.figsize\"] = (5,5)\n",
    "plt.show()"
   ]
  },
  {
   "cell_type": "code",
   "execution_count": 612,
   "id": "a2f7964f",
   "metadata": {},
   "outputs": [
    {
     "data": {
      "image/png": "[encoded data removed]",
      "text/plain": [
       "<Figure size 360x360 with 1 Axes>"
      ]
     },
     "metadata": {
      "needs_background": "light"
     },
     "output_type": "display_data"
    }
   ],
   "source": [
    "#Q-Q Plot\n",
    "fig = sm.qqplot(reg_residual, stats.t, fit=True, line=\"45\")"
   ]
  },
  {
   "cell_type": "markdown",
   "id": "34c50601",
   "metadata": {},
   "source": [
    "<b>Lasso Regression</b>"
   ]
  },
  {
   "cell_type": "code",
   "execution_count": 613,
   "id": "e78e0d67",
   "metadata": {},
   "outputs": [],
   "source": [
    "model_lasso = linear_model.Lasso(alpha=1)\n",
    "model_lasso.fit(X_train, y_train)\n",
    "y_lasso_preds_train = model_lasso.predict(X_train)\n",
    "y_lasso_preds_test = model_lasso.predict(X_test)"
   ]
  },
  {
   "cell_type": "code",
   "execution_count": 614,
   "id": "a22a5258",
   "metadata": {},
   "outputs": [
    {
     "name": "stdout",
     "output_type": "stream",
     "text": [
      "Constant\t   64404.00616658127\n"
     ]
    },
    {
     "data": {
      "text/plain": [
       "Bldg Type_Duplex         -8207.456344\n",
       "Bsmt Unf SF                -10.545242\n",
       "BsmtFin Type 1_LwQ      -14763.602607\n",
       "BsmtFin Type 1_None     -39149.790860\n",
       "BsmtFin Type 1_Rec      -10559.190350\n",
       "BsmtFin Type 1_Unf      -18553.316874\n",
       "BsmtFin Type 2_LwQ       -8735.815120\n",
       "BsmtFin Type 2_Rec       -8718.521449\n",
       "Condition 1_Artery      -20274.802825\n",
       "Condition 1_Feedr       -10083.943541\n",
       "Condition 1_PosN         11123.457566\n",
       "Exterior 1st_BrkFace     10042.582941\n",
       "Exterior 1st_CemntBd     11009.377888\n",
       "Exterior 2nd_HdBoard     -4813.481699\n",
       "Exterior 2nd_Stucco     -10984.295287\n",
       "Functional_Sev          -70066.027816\n",
       "Gr Liv Area                 71.877308\n",
       "Heating_OthW            -95283.061480\n",
       "House Style_2Story      -16534.810354\n",
       "Land Contour_Bnk        -12989.728765\n",
       "Land Contour_HLS          9839.447295\n",
       "Land Slope_Mod           14188.657435\n",
       "Lot Config_CulDSac       10400.216226\n",
       "Lot Shape_IR2            13348.735943\n",
       "MS SubClass_120         -17593.367109\n",
       "MS SubClass_150         -85911.713978\n",
       "MS SubClass_160         -18363.617079\n",
       "MS SubClass_90              -0.000000\n",
       "MS Zoning_RL             20003.976980\n",
       "Misc Feature_Elev      -419728.931588\n",
       "Neighborhood_BrDale      18319.328634\n",
       "Neighborhood_Edwards    -11366.420421\n",
       "Neighborhood_GrnHill    127660.616366\n",
       "Neighborhood_NWAmes      -7476.880054\n",
       "Neighborhood_NoRidge     22942.594015\n",
       "Neighborhood_NridgHt     39917.740587\n",
       "Neighborhood_Somerst     26987.040083\n",
       "Neighborhood_StoneBr     33369.609523\n",
       "Overall Cond              3258.744804\n",
       "Overall Qual            -27731.041526\n",
       "Overall Qual^2            4042.682019\n",
       "Roof Matl_WdShngl        28879.676165\n",
       "Roof Style_Hip            8169.364625\n",
       "Sale Type_COD           -10365.551116\n",
       "Sale Type_Con            41797.952533\n",
       "Sale Type_New            28370.549796\n",
       "dtype: float64"
      ]
     },
     "execution_count": 614,
     "metadata": {},
     "output_type": "execute_result"
    }
   ],
   "source": [
    "print(\"Constant\" + \"\\t   \" + str(model_lasso.intercept_))\n",
    "pd.Series(model_lasso.coef_, index = X_train.columns.values.tolist())"
   ]
  },
  {
   "cell_type": "code",
   "execution_count": 615,
   "id": "177c511f",
   "metadata": {},
   "outputs": [
    {
     "data": {
      "text/plain": [
       "0.8911879280634415"
      ]
     },
     "execution_count": 615,
     "metadata": {},
     "output_type": "execute_result"
    }
   ],
   "source": [
    "metrics.r2_score(y_train, y_lasso_preds_train)"
   ]
  },
  {
   "cell_type": "code",
   "execution_count": 616,
   "id": "ff1b1fb5",
   "metadata": {},
   "outputs": [
    {
     "data": {
      "text/plain": [
       "26161.018630212177"
      ]
     },
     "execution_count": 616,
     "metadata": {},
     "output_type": "execute_result"
    }
   ],
   "source": [
    "#Root Mean Squared Error (RMSE)\n",
    "np.sqrt(metrics.mean_squared_error(y_train, y_lasso_preds_train))"
   ]
  },
  {
   "cell_type": "code",
   "execution_count": 617,
   "id": "3a7b9cc6",
   "metadata": {},
   "outputs": [
    {
     "data": {
      "image/png": "[encoded data removed]",
      "text/plain": [
       "<Figure size 360x360 with 1 Axes>"
      ]
     },
     "metadata": {
      "needs_background": "light"
     },
     "output_type": "display_data"
    }
   ],
   "source": [
    "plt.scatter(y_train, y_lasso_preds_train , alpha=0.5)\n",
    "plt.show()"
   ]
  },
  {
   "cell_type": "code",
   "execution_count": 618,
   "id": "57a6ecdf",
   "metadata": {},
   "outputs": [
    {
     "data": {
      "text/plain": [
       "<AxesSubplot:>"
      ]
     },
     "execution_count": 618,
     "metadata": {},
     "output_type": "execute_result"
    },
    {
     "data": {
      "image/png": "[encoded data removed]",
      "text/plain": [
       "<Figure size 360x360 with 1 Axes>"
      ]
     },
     "metadata": {
      "needs_background": "light"
     },
     "output_type": "display_data"
    }
   ],
   "source": [
    "#Residual histogram\n",
    "lasso_residual = y_train - y_lasso_preds_train\n",
    "lasso_residual.hist(bins=10)"
   ]
  },
  {
   "cell_type": "code",
   "execution_count": 619,
   "id": "d2bd1a8f",
   "metadata": {},
   "outputs": [
    {
     "data": {
      "image/png": "[encoded data removed]",
      "text/plain": [
       "<Figure size 360x360 with 1 Axes>"
      ]
     },
     "metadata": {
      "needs_background": "light"
     },
     "output_type": "display_data"
    }
   ],
   "source": [
    "#Scatter Plot\n",
    "plt.scatter(y_lasso_preds_train, reg_residual, alpha=0.5)\n",
    "plt.rcParams[\"figure.figsize\"] = (5,5)\n",
    "plt.show()"
   ]
  },
  {
   "cell_type": "code",
   "execution_count": 620,
   "id": "bd5ef58c",
   "metadata": {},
   "outputs": [
    {
     "data": {
      "image/png": "[encoded data removed]",
      "text/plain": [
       "<Figure size 360x360 with 1 Axes>"
      ]
     },
     "metadata": {
      "needs_background": "light"
     },
     "output_type": "display_data"
    }
   ],
   "source": [
    "#Q-Q Plot\n",
    "fig = sm.qqplot(lasso_residual, stats.t, fit=True, line=\"45\")"
   ]
  },
  {
   "cell_type": "markdown",
   "id": "c910dc41",
   "metadata": {},
   "source": [
    "<b>Ridge Regression</b>"
   ]
  },
  {
   "cell_type": "code",
   "execution_count": 621,
   "id": "562583a5",
   "metadata": {},
   "outputs": [],
   "source": [
    "model_ridge = linear_model.Ridge(alpha=1)\n",
    "model_ridge.fit(X_train, y_train)\n",
    "y_ridge_preds_train = model_ridge.predict(X_train)\n",
    "y_ridge_preds_test = model_ridge.predict(X_test)"
   ]
  },
  {
   "cell_type": "code",
   "execution_count": 622,
   "id": "281bbf0f",
   "metadata": {},
   "outputs": [
    {
     "name": "stdout",
     "output_type": "stream",
     "text": [
      "Constant\t   60315.49480484688\n"
     ]
    },
    {
     "data": {
      "text/plain": [
       "Bldg Type_Duplex         -4103.275359\n",
       "Bsmt Unf SF                -10.055687\n",
       "BsmtFin Type 1_LwQ      -14771.171221\n",
       "BsmtFin Type 1_None     -36043.611776\n",
       "BsmtFin Type 1_Rec      -10442.654993\n",
       "BsmtFin Type 1_Unf      -18430.376119\n",
       "BsmtFin Type 2_LwQ       -8295.858112\n",
       "BsmtFin Type 2_Rec       -8562.849498\n",
       "Condition 1_Artery      -19433.320724\n",
       "Condition 1_Feedr        -9694.768425\n",
       "Condition 1_PosN         11725.806787\n",
       "Exterior 1st_BrkFace     11236.566088\n",
       "Exterior 1st_CemntBd      9191.838715\n",
       "Exterior 2nd_HdBoard     -5065.367495\n",
       "Exterior 2nd_Stucco     -10707.617542\n",
       "Functional_Sev          -45713.339643\n",
       "Gr Liv Area                 68.866732\n",
       "Heating_OthW            -63165.287950\n",
       "House Style_2Story      -15164.602860\n",
       "Land Contour_Bnk        -15720.025962\n",
       "Land Contour_HLS         10016.458103\n",
       "Land Slope_Mod           15111.314038\n",
       "Lot Config_CulDSac       10955.625618\n",
       "Lot Shape_IR2            13417.622020\n",
       "MS SubClass_120         -17177.874694\n",
       "MS SubClass_150         -43517.159124\n",
       "MS SubClass_160         -18909.966760\n",
       "MS SubClass_90           -4103.275359\n",
       "MS Zoning_RL             19674.727312\n",
       "Misc Feature_Elev      -200906.409149\n",
       "Neighborhood_BrDale      15891.227411\n",
       "Neighborhood_Edwards    -12725.936272\n",
       "Neighborhood_GrnHill     83945.919595\n",
       "Neighborhood_NWAmes      -6908.945365\n",
       "Neighborhood_NoRidge     24609.424991\n",
       "Neighborhood_NridgHt     41585.012978\n",
       "Neighborhood_Somerst     27084.263718\n",
       "Neighborhood_StoneBr     34702.960160\n",
       "Overall Cond              3234.873848\n",
       "Overall Qual            -25206.668070\n",
       "Overall Qual^2            3856.292628\n",
       "Roof Matl_WdShngl        26260.043663\n",
       "Roof Style_Hip            8107.605298\n",
       "Sale Type_COD            -9871.596666\n",
       "Sale Type_Con            33615.430096\n",
       "Sale Type_New            27116.584781\n",
       "dtype: float64"
      ]
     },
     "execution_count": 622,
     "metadata": {},
     "output_type": "execute_result"
    }
   ],
   "source": [
    "print(\"Constant\" + \"\\t   \" + str(model_ridge.intercept_))\n",
    "pd.Series(model_ridge.coef_, index = X_train.columns.values.tolist())"
   ]
  },
  {
   "cell_type": "code",
   "execution_count": 623,
   "id": "c215b864",
   "metadata": {},
   "outputs": [
    {
     "data": {
      "text/plain": [
       "0.8870093634299738"
      ]
     },
     "execution_count": 623,
     "metadata": {},
     "output_type": "execute_result"
    }
   ],
   "source": [
    "metrics.r2_score(y_train, y_ridge_preds_train)"
   ]
  },
  {
   "cell_type": "code",
   "execution_count": 624,
   "id": "eed4f047",
   "metadata": {},
   "outputs": [
    {
     "data": {
      "text/plain": [
       "26658.599968055558"
      ]
     },
     "execution_count": 624,
     "metadata": {},
     "output_type": "execute_result"
    }
   ],
   "source": [
    "#Root Mean Squared Error (RMSE)\n",
    "np.sqrt(metrics.mean_squared_error(y_train, y_ridge_preds_train))"
   ]
  },
  {
   "cell_type": "code",
   "execution_count": 625,
   "id": "5c7a1525",
   "metadata": {},
   "outputs": [
    {
     "data": {
      "image/png": "[encoded data removed]",
      "text/plain": [
       "<Figure size 360x360 with 1 Axes>"
      ]
     },
     "metadata": {
      "needs_background": "light"
     },
     "output_type": "display_data"
    }
   ],
   "source": [
    "plt.scatter(y_train, y_ridge_preds_train, alpha=0.5)\n",
    "plt.show()"
   ]
  },
  {
   "cell_type": "code",
   "execution_count": 626,
   "id": "d1bee36b",
   "metadata": {},
   "outputs": [
    {
     "data": {
      "text/plain": [
       "<AxesSubplot:>"
      ]
     },
     "execution_count": 626,
     "metadata": {},
     "output_type": "execute_result"
    },
    {
     "data": {
      "image/png": "[encoded data removed]",
      "text/plain": [
       "<Figure size 360x360 with 1 Axes>"
      ]
     },
     "metadata": {
      "needs_background": "light"
     },
     "output_type": "display_data"
    }
   ],
   "source": [
    "#Residual histogram\n",
    "ridge_residual = y_train - y_ridge_preds_train\n",
    "ridge_residual.hist(bins=10)"
   ]
  },
  {
   "cell_type": "code",
   "execution_count": 627,
   "id": "70b3f934",
   "metadata": {},
   "outputs": [
    {
     "data": {
      "image/png": "[encoded data removed]",
      "text/plain": [
       "<Figure size 360x360 with 1 Axes>"
      ]
     },
     "metadata": {
      "needs_background": "light"
     },
     "output_type": "display_data"
    }
   ],
   "source": [
    "#Scatter Plot\n",
    "plt.scatter(y_ridge_preds_train, reg_residual, alpha=0.5)\n",
    "plt.rcParams[\"figure.figsize\"] = (5,5)\n",
    "plt.show()"
   ]
  },
  {
   "cell_type": "code",
   "execution_count": 628,
   "id": "cee6f60f",
   "metadata": {},
   "outputs": [
    {
     "data": {
      "image/png": "[encoded data removed]",
      "text/plain": [
       "<Figure size 360x360 with 1 Axes>"
      ]
     },
     "metadata": {
      "needs_background": "light"
     },
     "output_type": "display_data"
    }
   ],
   "source": [
    "#Q-Q Plot\n",
    "fig = sm.qqplot(ridge_residual, stats.t, fit=True, line=\"45\")"
   ]
  },
  {
   "cell_type": "markdown",
   "id": "82760f7b",
   "metadata": {},
   "source": [
    "<font color='blue'><b>Assumptions of Regression Checked</b></font></br>\n",
    "While the residuals appeared to have a normal distribution, there is a fan out patterns at the higher Y predicted values. From the Q-Q Plot, most of the data are fairly linear except for the higher quantiles. The same outcome could be observed in all the three models. Potentially, more can be done to process the data to make it even better (especially for the higher values), however thinking about the objective of the analysis, this could be considered acceptable."
   ]
  },
  {
   "cell_type": "markdown",
   "id": "39e5103b",
   "metadata": {},
   "source": [
    "<b>Kaggle Submission</b>"
   ]
  },
  {
   "cell_type": "code",
   "execution_count": 629,
   "id": "8eba8f93",
   "metadata": {},
   "outputs": [],
   "source": [
    "for_kaggle_list  = list (zip(test.Id.values.tolist(), y_reg_preds_test))\n",
    "for_kaggle = pd.DataFrame(for_kaggle_list, columns = ['Id', 'SalePrice'])"
   ]
  },
  {
   "cell_type": "code",
   "execution_count": 630,
   "id": "d2414701",
   "metadata": {},
   "outputs": [],
   "source": [
    "for_kaggle.to_csv(r'./datasets/sub_reg.csv')"
   ]
  },
  {
   "cell_type": "markdown",
   "id": "1fc4b4b0",
   "metadata": {},
   "source": [
    "<b>Obtaining Standardized Beta for Comparison</b>"
   ]
  },
  {
   "cell_type": "code",
   "execution_count": 631,
   "id": "7cbc6749",
   "metadata": {},
   "outputs": [],
   "source": [
    "#Standardization only on the numeric and scale data which are:\n",
    "#Bsmt Unf SF, Gr Liv Area, Overall Cond, Overall Qual and Overall Qual^2\n",
    "\n",
    "scaler = StandardScaler()\n",
    "ct = ColumnTransformer([\n",
    "        ('somename', StandardScaler(), ['Bsmt Unf SF', 'Gr Liv Area','Overall Cond','Overall Qual','Overall Qual^2'])\n",
    "    ], remainder='passthrough')\n",
    "\n",
    "X_train = ct.fit_transform(X_train)"
   ]
  },
  {
   "cell_type": "code",
   "execution_count": 632,
   "id": "904429cc",
   "metadata": {
    "scrolled": false
   },
   "outputs": [
    {
     "data": {
      "text/html": [
       "<table class=\"simpletable\">\n",
       "<caption>OLS Regression Results</caption>\n",
       "<tr>\n",
       "  <th>Dep. Variable:</th>        <td>SalePrice</td>    <th>  R-squared:         </th> <td>   0.891</td> \n",
       "</tr>\n",
       "<tr>\n",
       "  <th>Model:</th>                   <td>OLS</td>       <th>  Adj. R-squared:    </th> <td>   0.889</td> \n",
       "</tr>\n",
       "<tr>\n",
       "  <th>Method:</th>             <td>Least Squares</td>  <th>  F-statistic:       </th> <td>   364.2</td> \n",
       "</tr>\n",
       "<tr>\n",
       "  <th>Date:</th>             <td>Fri, 28 Oct 2022</td> <th>  Prob (F-statistic):</th>  <td>  0.00</td>  \n",
       "</tr>\n",
       "<tr>\n",
       "  <th>Time:</th>                 <td>18:19:55</td>     <th>  Log-Likelihood:    </th> <td> -23727.</td> \n",
       "</tr>\n",
       "<tr>\n",
       "  <th>No. Observations:</th>      <td>  2047</td>      <th>  AIC:               </th> <td>4.755e+04</td>\n",
       "</tr>\n",
       "<tr>\n",
       "  <th>Df Residuals:</th>          <td>  2001</td>      <th>  BIC:               </th> <td>4.780e+04</td>\n",
       "</tr>\n",
       "<tr>\n",
       "  <th>Df Model:</th>              <td>    45</td>      <th>                     </th>     <td> </td>    \n",
       "</tr>\n",
       "<tr>\n",
       "  <th>Covariance Type:</th>      <td>nonrobust</td>    <th>                     </th>     <td> </td>    \n",
       "</tr>\n",
       "</table>\n",
       "<table class=\"simpletable\">\n",
       "<tr>\n",
       "    <td></td>       <th>coef</th>     <th>std err</th>      <th>t</th>      <th>P>|t|</th>  <th>[0.025</th>    <th>0.975]</th>  \n",
       "</tr>\n",
       "<tr>\n",
       "  <th>const</th> <td> 1.737e+05</td> <td> 2006.521</td> <td>   86.558</td> <td> 0.000</td> <td>  1.7e+05</td> <td> 1.78e+05</td>\n",
       "</tr>\n",
       "<tr>\n",
       "  <th>x1</th>    <td>-4693.3822</td> <td>  877.468</td> <td>   -5.349</td> <td> 0.000</td> <td>-6414.229</td> <td>-2972.535</td>\n",
       "</tr>\n",
       "<tr>\n",
       "  <th>x2</th>    <td> 3.524e+04</td> <td>  925.525</td> <td>   38.077</td> <td> 0.000</td> <td> 3.34e+04</td> <td> 3.71e+04</td>\n",
       "</tr>\n",
       "<tr>\n",
       "  <th>x3</th>    <td> 3591.4087</td> <td>  641.325</td> <td>    5.600</td> <td> 0.000</td> <td> 2333.675</td> <td> 4849.142</td>\n",
       "</tr>\n",
       "<tr>\n",
       "  <th>x4</th>    <td>-3.947e+04</td> <td> 4336.308</td> <td>   -9.103</td> <td> 0.000</td> <td> -4.8e+04</td> <td> -3.1e+04</td>\n",
       "</tr>\n",
       "<tr>\n",
       "  <th>x5</th>    <td> 7.238e+04</td> <td> 4459.480</td> <td>   16.231</td> <td> 0.000</td> <td> 6.36e+04</td> <td> 8.11e+04</td>\n",
       "</tr>\n",
       "<tr>\n",
       "  <th>x6</th>    <td>-4109.0334</td> <td> 1692.003</td> <td>   -2.429</td> <td> 0.015</td> <td>-7427.306</td> <td> -790.761</td>\n",
       "</tr>\n",
       "<tr>\n",
       "  <th>x7</th>    <td>-1.478e+04</td> <td> 2816.493</td> <td>   -5.247</td> <td> 0.000</td> <td>-2.03e+04</td> <td>-9255.294</td>\n",
       "</tr>\n",
       "<tr>\n",
       "  <th>x8</th>    <td>-3.924e+04</td> <td> 4205.813</td> <td>   -9.331</td> <td> 0.000</td> <td>-4.75e+04</td> <td> -3.1e+04</td>\n",
       "</tr>\n",
       "<tr>\n",
       "  <th>x9</th>    <td>-1.058e+04</td> <td> 2244.612</td> <td>   -4.712</td> <td> 0.000</td> <td> -1.5e+04</td> <td>-6174.714</td>\n",
       "</tr>\n",
       "<tr>\n",
       "  <th>x10</th>   <td>-1.856e+04</td> <td> 1859.758</td> <td>   -9.980</td> <td> 0.000</td> <td>-2.22e+04</td> <td>-1.49e+04</td>\n",
       "</tr>\n",
       "<tr>\n",
       "  <th>x11</th>   <td>-8778.9431</td> <td> 3598.878</td> <td>   -2.439</td> <td> 0.015</td> <td>-1.58e+04</td> <td>-1721.003</td>\n",
       "</tr>\n",
       "<tr>\n",
       "  <th>x12</th>   <td>-8744.4830</td> <td> 3162.177</td> <td>   -2.765</td> <td> 0.006</td> <td>-1.49e+04</td> <td>-2542.978</td>\n",
       "</tr>\n",
       "<tr>\n",
       "  <th>x13</th>   <td>-2.032e+04</td> <td> 3316.292</td> <td>   -6.126</td> <td> 0.000</td> <td>-2.68e+04</td> <td>-1.38e+04</td>\n",
       "</tr>\n",
       "<tr>\n",
       "  <th>x14</th>   <td>-1.011e+04</td> <td> 2683.595</td> <td>   -3.767</td> <td> 0.000</td> <td>-1.54e+04</td> <td>-4846.517</td>\n",
       "</tr>\n",
       "<tr>\n",
       "  <th>x15</th>   <td> 1.118e+04</td> <td> 5258.087</td> <td>    2.125</td> <td> 0.034</td> <td>  864.164</td> <td> 2.15e+04</td>\n",
       "</tr>\n",
       "<tr>\n",
       "  <th>x16</th>   <td> 1.004e+04</td> <td> 3486.589</td> <td>    2.881</td> <td> 0.004</td> <td> 3207.077</td> <td> 1.69e+04</td>\n",
       "</tr>\n",
       "<tr>\n",
       "  <th>x17</th>   <td> 1.105e+04</td> <td> 3093.729</td> <td>    3.572</td> <td> 0.000</td> <td> 4984.750</td> <td> 1.71e+04</td>\n",
       "</tr>\n",
       "<tr>\n",
       "  <th>x18</th>   <td>-4833.0078</td> <td> 1873.197</td> <td>   -2.580</td> <td> 0.010</td> <td>-8506.628</td> <td>-1159.387</td>\n",
       "</tr>\n",
       "<tr>\n",
       "  <th>x19</th>   <td>-1.105e+04</td> <td> 5023.666</td> <td>   -2.200</td> <td> 0.028</td> <td>-2.09e+04</td> <td>-1198.835</td>\n",
       "</tr>\n",
       "<tr>\n",
       "  <th>x20</th>   <td> -7.11e+04</td> <td> 1.91e+04</td> <td>   -3.729</td> <td> 0.000</td> <td>-1.09e+05</td> <td>-3.37e+04</td>\n",
       "</tr>\n",
       "<tr>\n",
       "  <th>x21</th>   <td> -9.63e+04</td> <td> 1.89e+04</td> <td>   -5.093</td> <td> 0.000</td> <td>-1.33e+05</td> <td>-5.92e+04</td>\n",
       "</tr>\n",
       "<tr>\n",
       "  <th>x22</th>   <td>-1.655e+04</td> <td> 1792.954</td> <td>   -9.233</td> <td> 0.000</td> <td>-2.01e+04</td> <td> -1.3e+04</td>\n",
       "</tr>\n",
       "<tr>\n",
       "  <th>x23</th>   <td>-1.297e+04</td> <td> 3184.340</td> <td>   -4.074</td> <td> 0.000</td> <td>-1.92e+04</td> <td>-6727.776</td>\n",
       "</tr>\n",
       "<tr>\n",
       "  <th>x24</th>   <td> 9884.5081</td> <td> 3370.873</td> <td>    2.932</td> <td> 0.003</td> <td> 3273.720</td> <td> 1.65e+04</td>\n",
       "</tr>\n",
       "<tr>\n",
       "  <th>x25</th>   <td> 1.419e+04</td> <td> 3161.695</td> <td>    4.487</td> <td> 0.000</td> <td> 7986.869</td> <td> 2.04e+04</td>\n",
       "</tr>\n",
       "<tr>\n",
       "  <th>x26</th>   <td>  1.04e+04</td> <td> 2554.408</td> <td>    4.070</td> <td> 0.000</td> <td> 5388.037</td> <td> 1.54e+04</td>\n",
       "</tr>\n",
       "<tr>\n",
       "  <th>x27</th>   <td> 1.337e+04</td> <td> 3786.159</td> <td>    3.531</td> <td> 0.000</td> <td> 5944.180</td> <td> 2.08e+04</td>\n",
       "</tr>\n",
       "<tr>\n",
       "  <th>x28</th>   <td>-1.765e+04</td> <td> 2761.644</td> <td>   -6.390</td> <td> 0.000</td> <td>-2.31e+04</td> <td>-1.22e+04</td>\n",
       "</tr>\n",
       "<tr>\n",
       "  <th>x29</th>   <td>-8.802e+04</td> <td> 2.67e+04</td> <td>   -3.294</td> <td> 0.001</td> <td> -1.4e+05</td> <td>-3.56e+04</td>\n",
       "</tr>\n",
       "<tr>\n",
       "  <th>x30</th>   <td>-1.844e+04</td> <td> 3774.699</td> <td>   -4.885</td> <td> 0.000</td> <td>-2.58e+04</td> <td> -1.1e+04</td>\n",
       "</tr>\n",
       "<tr>\n",
       "  <th>x31</th>   <td>-4109.0334</td> <td> 1692.003</td> <td>   -2.429</td> <td> 0.015</td> <td>-7427.306</td> <td> -790.761</td>\n",
       "</tr>\n",
       "<tr>\n",
       "  <th>x32</th>   <td> 2.002e+04</td> <td> 1772.109</td> <td>   11.296</td> <td> 0.000</td> <td> 1.65e+04</td> <td> 2.35e+04</td>\n",
       "</tr>\n",
       "<tr>\n",
       "  <th>x33</th>   <td>-4.219e+05</td> <td> 2.78e+04</td> <td>  -15.183</td> <td> 0.000</td> <td>-4.76e+05</td> <td>-3.67e+05</td>\n",
       "</tr>\n",
       "<tr>\n",
       "  <th>x34</th>   <td> 1.855e+04</td> <td> 7260.336</td> <td>    2.556</td> <td> 0.011</td> <td> 4315.831</td> <td> 3.28e+04</td>\n",
       "</tr>\n",
       "<tr>\n",
       "  <th>x35</th>   <td>-1.137e+04</td> <td> 2437.522</td> <td>   -4.665</td> <td> 0.000</td> <td>-1.62e+04</td> <td>-6591.889</td>\n",
       "</tr>\n",
       "<tr>\n",
       "  <th>x36</th>   <td> 1.288e+05</td> <td> 1.91e+04</td> <td>    6.741</td> <td> 0.000</td> <td> 9.13e+04</td> <td> 1.66e+05</td>\n",
       "</tr>\n",
       "<tr>\n",
       "  <th>x37</th>   <td>-7504.9719</td> <td> 3064.098</td> <td>   -2.449</td> <td> 0.014</td> <td>-1.35e+04</td> <td>-1495.815</td>\n",
       "</tr>\n",
       "<tr>\n",
       "  <th>x38</th>   <td> 2.298e+04</td> <td> 4290.182</td> <td>    5.358</td> <td> 0.000</td> <td> 1.46e+04</td> <td> 3.14e+04</td>\n",
       "</tr>\n",
       "<tr>\n",
       "  <th>x39</th>   <td> 3.996e+04</td> <td> 3179.820</td> <td>   12.566</td> <td> 0.000</td> <td> 3.37e+04</td> <td> 4.62e+04</td>\n",
       "</tr>\n",
       "<tr>\n",
       "  <th>x40</th>   <td> 2.704e+04</td> <td> 3040.036</td> <td>    8.896</td> <td> 0.000</td> <td> 2.11e+04</td> <td>  3.3e+04</td>\n",
       "</tr>\n",
       "<tr>\n",
       "  <th>x41</th>   <td> 3.344e+04</td> <td> 5062.305</td> <td>    6.605</td> <td> 0.000</td> <td> 2.35e+04</td> <td> 4.34e+04</td>\n",
       "</tr>\n",
       "<tr>\n",
       "  <th>x42</th>   <td>  2.93e+04</td> <td> 1.22e+04</td> <td>    2.407</td> <td> 0.016</td> <td> 5421.869</td> <td> 5.32e+04</td>\n",
       "</tr>\n",
       "<tr>\n",
       "  <th>x43</th>   <td> 8173.7009</td> <td> 1597.582</td> <td>    5.116</td> <td> 0.000</td> <td> 5040.603</td> <td> 1.13e+04</td>\n",
       "</tr>\n",
       "<tr>\n",
       "  <th>x44</th>   <td> -1.04e+04</td> <td> 3482.463</td> <td>   -2.988</td> <td> 0.003</td> <td>-1.72e+04</td> <td>-3574.267</td>\n",
       "</tr>\n",
       "<tr>\n",
       "  <th>x45</th>   <td> 4.232e+04</td> <td> 1.34e+04</td> <td>    3.168</td> <td> 0.002</td> <td> 1.61e+04</td> <td> 6.85e+04</td>\n",
       "</tr>\n",
       "<tr>\n",
       "  <th>x46</th>   <td> 2.838e+04</td> <td> 2507.515</td> <td>   11.320</td> <td> 0.000</td> <td> 2.35e+04</td> <td> 3.33e+04</td>\n",
       "</tr>\n",
       "</table>\n",
       "<table class=\"simpletable\">\n",
       "<tr>\n",
       "  <th>Omnibus:</th>       <td>380.522</td> <th>  Durbin-Watson:     </th> <td>   1.800</td>\n",
       "</tr>\n",
       "<tr>\n",
       "  <th>Prob(Omnibus):</th> <td> 0.000</td>  <th>  Jarque-Bera (JB):  </th> <td>2135.996</td>\n",
       "</tr>\n",
       "<tr>\n",
       "  <th>Skew:</th>          <td> 0.754</td>  <th>  Prob(JB):          </th> <td>    0.00</td>\n",
       "</tr>\n",
       "<tr>\n",
       "  <th>Kurtosis:</th>      <td> 7.771</td>  <th>  Cond. No.          </th> <td>1.07e+16</td>\n",
       "</tr>\n",
       "</table><br/><br/>Notes:<br/>[1] Standard Errors assume that the covariance matrix of the errors is correctly specified.<br/>[2] The smallest eigenvalue is 4.84e-29. This might indicate that there are<br/>strong multicollinearity problems or that the design matrix is singular."
      ],
      "text/plain": [
       "<class 'statsmodels.iolib.summary.Summary'>\n",
       "\"\"\"\n",
       "                            OLS Regression Results                            \n",
       "==============================================================================\n",
       "Dep. Variable:              SalePrice   R-squared:                       0.891\n",
       "Model:                            OLS   Adj. R-squared:                  0.889\n",
       "Method:                 Least Squares   F-statistic:                     364.2\n",
       "Date:                Fri, 28 Oct 2022   Prob (F-statistic):               0.00\n",
       "Time:                        18:19:55   Log-Likelihood:                -23727.\n",
       "No. Observations:                2047   AIC:                         4.755e+04\n",
       "Df Residuals:                    2001   BIC:                         4.780e+04\n",
       "Df Model:                          45                                         \n",
       "Covariance Type:            nonrobust                                         \n",
       "==============================================================================\n",
       "                 coef    std err          t      P>|t|      [0.025      0.975]\n",
       "------------------------------------------------------------------------------\n",
       "const       1.737e+05   2006.521     86.558      0.000     1.7e+05    1.78e+05\n",
       "x1         -4693.3822    877.468     -5.349      0.000   -6414.229   -2972.535\n",
       "x2          3.524e+04    925.525     38.077      0.000    3.34e+04    3.71e+04\n",
       "x3          3591.4087    641.325      5.600      0.000    2333.675    4849.142\n",
       "x4         -3.947e+04   4336.308     -9.103      0.000    -4.8e+04    -3.1e+04\n",
       "x5          7.238e+04   4459.480     16.231      0.000    6.36e+04    8.11e+04\n",
       "x6         -4109.0334   1692.003     -2.429      0.015   -7427.306    -790.761\n",
       "x7         -1.478e+04   2816.493     -5.247      0.000   -2.03e+04   -9255.294\n",
       "x8         -3.924e+04   4205.813     -9.331      0.000   -4.75e+04    -3.1e+04\n",
       "x9         -1.058e+04   2244.612     -4.712      0.000    -1.5e+04   -6174.714\n",
       "x10        -1.856e+04   1859.758     -9.980      0.000   -2.22e+04   -1.49e+04\n",
       "x11        -8778.9431   3598.878     -2.439      0.015   -1.58e+04   -1721.003\n",
       "x12        -8744.4830   3162.177     -2.765      0.006   -1.49e+04   -2542.978\n",
       "x13        -2.032e+04   3316.292     -6.126      0.000   -2.68e+04   -1.38e+04\n",
       "x14        -1.011e+04   2683.595     -3.767      0.000   -1.54e+04   -4846.517\n",
       "x15         1.118e+04   5258.087      2.125      0.034     864.164    2.15e+04\n",
       "x16         1.004e+04   3486.589      2.881      0.004    3207.077    1.69e+04\n",
       "x17         1.105e+04   3093.729      3.572      0.000    4984.750    1.71e+04\n",
       "x18        -4833.0078   1873.197     -2.580      0.010   -8506.628   -1159.387\n",
       "x19        -1.105e+04   5023.666     -2.200      0.028   -2.09e+04   -1198.835\n",
       "x20         -7.11e+04   1.91e+04     -3.729      0.000   -1.09e+05   -3.37e+04\n",
       "x21         -9.63e+04   1.89e+04     -5.093      0.000   -1.33e+05   -5.92e+04\n",
       "x22        -1.655e+04   1792.954     -9.233      0.000   -2.01e+04    -1.3e+04\n",
       "x23        -1.297e+04   3184.340     -4.074      0.000   -1.92e+04   -6727.776\n",
       "x24         9884.5081   3370.873      2.932      0.003    3273.720    1.65e+04\n",
       "x25         1.419e+04   3161.695      4.487      0.000    7986.869    2.04e+04\n",
       "x26          1.04e+04   2554.408      4.070      0.000    5388.037    1.54e+04\n",
       "x27         1.337e+04   3786.159      3.531      0.000    5944.180    2.08e+04\n",
       "x28        -1.765e+04   2761.644     -6.390      0.000   -2.31e+04   -1.22e+04\n",
       "x29        -8.802e+04   2.67e+04     -3.294      0.001    -1.4e+05   -3.56e+04\n",
       "x30        -1.844e+04   3774.699     -4.885      0.000   -2.58e+04    -1.1e+04\n",
       "x31        -4109.0334   1692.003     -2.429      0.015   -7427.306    -790.761\n",
       "x32         2.002e+04   1772.109     11.296      0.000    1.65e+04    2.35e+04\n",
       "x33        -4.219e+05   2.78e+04    -15.183      0.000   -4.76e+05   -3.67e+05\n",
       "x34         1.855e+04   7260.336      2.556      0.011    4315.831    3.28e+04\n",
       "x35        -1.137e+04   2437.522     -4.665      0.000   -1.62e+04   -6591.889\n",
       "x36         1.288e+05   1.91e+04      6.741      0.000    9.13e+04    1.66e+05\n",
       "x37        -7504.9719   3064.098     -2.449      0.014   -1.35e+04   -1495.815\n",
       "x38         2.298e+04   4290.182      5.358      0.000    1.46e+04    3.14e+04\n",
       "x39         3.996e+04   3179.820     12.566      0.000    3.37e+04    4.62e+04\n",
       "x40         2.704e+04   3040.036      8.896      0.000    2.11e+04     3.3e+04\n",
       "x41         3.344e+04   5062.305      6.605      0.000    2.35e+04    4.34e+04\n",
       "x42          2.93e+04   1.22e+04      2.407      0.016    5421.869    5.32e+04\n",
       "x43         8173.7009   1597.582      5.116      0.000    5040.603    1.13e+04\n",
       "x44         -1.04e+04   3482.463     -2.988      0.003   -1.72e+04   -3574.267\n",
       "x45         4.232e+04   1.34e+04      3.168      0.002    1.61e+04    6.85e+04\n",
       "x46         2.838e+04   2507.515     11.320      0.000    2.35e+04    3.33e+04\n",
       "==============================================================================\n",
       "Omnibus:                      380.522   Durbin-Watson:                   1.800\n",
       "Prob(Omnibus):                  0.000   Jarque-Bera (JB):             2135.996\n",
       "Skew:                           0.754   Prob(JB):                         0.00\n",
       "Kurtosis:                       7.771   Cond. No.                     1.07e+16\n",
       "==============================================================================\n",
       "\n",
       "Notes:\n",
       "[1] Standard Errors assume that the covariance matrix of the errors is correctly specified.\n",
       "[2] The smallest eigenvalue is 4.84e-29. This might indicate that there are\n",
       "strong multicollinearity problems or that the design matrix is singular.\n",
       "\"\"\""
      ]
     },
     "execution_count": 632,
     "metadata": {},
     "output_type": "execute_result"
    }
   ],
   "source": [
    "X_ols_train = sm.add_constant(X_train)\n",
    "ols_train = sm.OLS(y_train, X_ols_train).fit()\n",
    "ols_train.summary()"
   ]
  }
 ],
 "metadata": {
  "kernelspec": {
   "display_name": "Python 3 (ipykernel)",
   "language": "python",
   "name": "python3"
  },
  "language_info": {
   "codemirror_mode": {
    "name": "ipython",
    "version": 3
   },
   "file_extension": ".py",
   "mimetype": "text/x-python",
   "name": "python",
   "nbconvert_exporter": "python",
   "pygments_lexer": "ipython3",
   "version": "3.9.12"
  }
 },
 "nbformat": 4,
 "nbformat_minor": 5
}
